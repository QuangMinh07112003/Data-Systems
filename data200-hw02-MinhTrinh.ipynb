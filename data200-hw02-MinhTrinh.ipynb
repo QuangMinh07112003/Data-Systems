{
 "cells": [
  {
   "cell_type": "markdown",
   "metadata": {},
   "source": [
    "# Data 200: Data Systems for Data Analytics (Spring 2024)"
   ]
  },
  {
   "cell_type": "markdown",
   "metadata": {},
   "source": [
    "# Homework 2: File Processing in Python\n",
    "\n",
    "## <font color='red'>**Due Date and Time:** 1:30 pm on Friday, 2/9/2024 </font>\n",
    "---\n",
    "Enter your name in the markdown cell below."
   ]
  },
  {
   "cell_type": "markdown",
   "metadata": {},
   "source": [
    "# Name: Minh Trinh\n",
    "\n",
    "## RUN THIS CELL TO GET THE RIGHT FORMATTING AND TO LOAD NumPy\n",
    "import requests\n",
    "import numpy as np\n",
    "from IPython.core.display import HTML\n",
    "styles = requests.get(\"https://raw.githubusercontent.com/Harvard-IACS/2018-CS109A/master/content/styles/cs109.css\").text\n",
    "HTML(styles)"
   ]
  },
  {
   "cell_type": "markdown",
   "metadata": {},
   "source": [
    "# Tasks\n",
    "\n",
    "- Read pages 17-48 in the textbook.\n",
    "- Review pages 43-73 in the Course Notes.\n",
    "- Complete the **Matplotlib** chapter of the **Intermediate Python** course on DataCamp\n",
    "- Complete the **Dictionaries and Pandas** chapter of the **Intermediate Python** course on DataCamp\n",
    "- E-mail me your completed Jupyter notebook."
   ]
  },
  {
   "cell_type": "markdown",
   "metadata": {},
   "source": [
    "# Exercises"
   ]
  },
  {
   "cell_type": "markdown",
   "metadata": {},
   "source": [
    "The file `quotes.txt` contains five famous quotes (make sure the file is in the same folder as this notebook). The file is organized so that the quote is on one line and then the name of the person to whom the quote is attributed on the next line.  This is repeated for 5 different quotes. Open up the file with your text editor to inspect it. "
   ]
  },
  {
   "cell_type": "markdown",
   "metadata": {},
   "source": [
    "<div class=\"exercise\"><b>Exercise 1</b></div> \n",
    "\n",
    "Write Python statements to <br>\n",
    "\n",
    "- Open the `quotes.txt` file\n",
    "- Read and print the first line of the file (using the `readline()` method)\n",
    "- Close the file\n",
    "\n",
    "The output from my solution is:<br>\n",
    "\n",
    "<code>\n",
    "When you reach the end of your rope, tie a knot in it and hang on.</code>"
   ]
  },
  {
   "cell_type": "code",
   "execution_count": 2,
   "metadata": {
    "scrolled": true
   },
   "outputs": [
    {
     "name": "stdout",
     "output_type": "stream",
     "text": [
      "When you reach the end of your rope, tie a knot in it and hang on.\n",
      "\n"
     ]
    }
   ],
   "source": [
    "file = open('quotes.txt', 'r')\n",
    "print(file.readline())\n",
    "file.close()"
   ]
  },
  {
   "cell_type": "markdown",
   "metadata": {},
   "source": [
    "<div class=\"exercise\"><b>Exercise 2</b></div> \n",
    "\n",
    "Review page 65 of the Course Notes and then write Python statements to <br>\n",
    "\n",
    "- Open the `quotes.txt` file\n",
    "- Read all of the lines of the file using the `readlines(.)` method\n",
    "- Print all the lines using a for-loop as on page 65 of the Course Notes\n",
    "- Close the file\n",
    "\n",
    "The output from my solution is:<br>\n",
    "\n",
    "<code>\n",
    "When you reach the end of your rope, tie a knot in it and hang on.\n",
    "Franklin D. Roosevelt\n",
    "Always remember that you are absolutely unique. Just like everyone else.\n",
    "Margaret Mead\n",
    "The best and most beautiful things in the world cannot be seen or even touched — they must be felt with the heart.\n",
    "Helen Keller\n",
    "Success depends upon previous preparation, and without such preparation, there is sure to be failure.\n",
    "Confucius\n",
    "The journey of a thousand miles begins with one step.\n",
    "Lao Tzu</code>"
   ]
  },
  {
   "cell_type": "code",
   "execution_count": 5,
   "metadata": {},
   "outputs": [
    {
     "name": "stdout",
     "output_type": "stream",
     "text": [
      "When you reach the end of your rope, tie a knot in it and hang on.\n",
      "Franklin D. Roosevelt\n",
      "Always remember that you are absolutely unique. Just like everyone else.\n",
      "Margaret Mead\n",
      "The best and most beautiful things in the world cannot be seen or even touched — they must be felt with the heart.\n",
      "Helen Keller\n",
      "Success depends upon previous preparation, and without such preparation, there is sure to be failure.\n",
      "Confucius\n",
      "The journey of a thousand miles begins with one step.\n",
      "Lao Tzu"
     ]
    }
   ],
   "source": [
    "with open('quotes.txt', 'r') as file_obj:\n",
    "    lines = file_obj.readlines()\n",
    "    \n",
    "for line in lines:\n",
    "    print(line, end = '')"
   ]
  },
  {
   "cell_type": "markdown",
   "metadata": {},
   "source": [
    "Run the cell below that defines a few `string` variables."
   ]
  },
  {
   "cell_type": "code",
   "execution_count": 7,
   "metadata": {},
   "outputs": [],
   "source": [
    "s1 = \"Yeah, we fancy like Applebee's on a date night\"\n",
    "s2 = \"Got that Bourbon Street steak with the Oreo shake\"\n",
    "s3 = \"Get some whipped cream on the top too\"\n",
    "s4 = \"Two straws, one check, girl, I got you\""
   ]
  },
  {
   "cell_type": "markdown",
   "metadata": {},
   "source": [
    "<div class=\"exercise\"><b>Exercise 3</b></div> \n",
    "\n",
    "Review pages 61-62 of the Course Notes and then write Python statements that use the `split(.)` method (remember that the default separator is any whitespace) to print out:<br>\n",
    "\n",
    "a) The 5th word (index 4) of `s1`<br>\n",
    "b) The last word of `s2`<br>\n",
    "\n",
    "The output from my solution is:<br>\n",
    "\n",
    "<code>\n",
    "Applebee's\n",
    "shake</code>"
   ]
  },
  {
   "cell_type": "code",
   "execution_count": 13,
   "metadata": {},
   "outputs": [
    {
     "name": "stdout",
     "output_type": "stream",
     "text": [
      "Applebee's\n",
      "shake\n"
     ]
    }
   ],
   "source": [
    "s1_split = s1.split()\n",
    "print(s1_split[4])\n",
    "\n",
    "s2_split = s2.split()\n",
    "print(s2_split[-1])\n"
   ]
  },
  {
   "cell_type": "markdown",
   "metadata": {},
   "source": [
    "<div class=\"exercise\"><b>Exercise 4</b></div> \n",
    "\n",
    "Write Python statements that determines the number of words in the `quotes.txt` file. Specifically,\n",
    "- Open the file `quotes.txt`\n",
    "- Read the entire file using the `read(.)` method and assign it to a string (pages pages 58-59 in the Course Notes)\n",
    "- Use the `split(.)` method to split the string using the default separator (whitespace)\n",
    "- Use the `len(.)` method to determine the number of words\n",
    "- Print the number of words.\n",
    "The output from my solution is:<br>\n",
    "<code>\n",
    "The number of words is 85</code>"
   ]
  },
  {
   "cell_type": "code",
   "execution_count": 32,
   "metadata": {},
   "outputs": [
    {
     "name": "stdout",
     "output_type": "stream",
     "text": [
      "The number of words is 85\n"
     ]
    }
   ],
   "source": [
    "file = open('quotes.txt', 'r')\n",
    "readfile = file.read()\n",
    "file_split = readfile.split()\n",
    "\n",
    "len_file = len(file_split)\n",
    "print(\"The number of words is\", len_file )\n",
    "file.close()"
   ]
  },
  {
   "cell_type": "markdown",
   "metadata": {},
   "source": [
    "<div class=\"exercise\"><b>Exercise 5</b></div> \n",
    "\n",
    "Write Python code that processes the file `quotes.txt`, line by line, and accumulates and returns a list of tuples, one per line. Each tuple consists of the two values of the line number and the number of words on the line (line numbers in a file start at 1). Finally, print the list of tupes.  It might be helpful to review the `readNames(.)` method on page 67 of the Course Notes.\n",
    "\n",
    "The output from my solution is:<br>\n",
    "<code>\n",
    "[[1, 16], [2, 3], [3, 11], [4, 2], [5, 23], [6, 2], [7, 15], [8, 1], [9, 10], [10, 2]]</code>"
   ]
  },
  {
   "cell_type": "code",
   "execution_count": 34,
   "metadata": {},
   "outputs": [
    {
     "ename": "AttributeError",
     "evalue": "'_io.TextIOWrapper' object has no attribute 'split'",
     "output_type": "error",
     "traceback": [
      "\u001b[0;31m---------------------------------------------------------------------------\u001b[0m",
      "\u001b[0;31mAttributeError\u001b[0m                            Traceback (most recent call last)",
      "Cell \u001b[0;32mIn[34], line 2\u001b[0m\n\u001b[1;32m      1\u001b[0m file \u001b[38;5;241m=\u001b[39m \u001b[38;5;28mopen\u001b[39m(\u001b[38;5;124m'\u001b[39m\u001b[38;5;124mquotes.txt\u001b[39m\u001b[38;5;124m'\u001b[39m, \u001b[38;5;124m'\u001b[39m\u001b[38;5;124mr\u001b[39m\u001b[38;5;124m'\u001b[39m)\n\u001b[0;32m----> 2\u001b[0m \u001b[38;5;28mlen\u001b[39m \u001b[38;5;241m=\u001b[39m \u001b[43mfile\u001b[49m\u001b[38;5;241;43m.\u001b[39;49m\u001b[43msplit\u001b[49m(\u001b[38;5;124m\"\u001b[39m\u001b[38;5;130;01m\\n\u001b[39;00m\u001b[38;5;124m\"\u001b[39m) \n\u001b[1;32m      3\u001b[0m \u001b[38;5;28mprint\u001b[39m(\u001b[38;5;28mlen\u001b[39m) \n\u001b[1;32m      4\u001b[0m names \u001b[38;5;241m=\u001b[39m readNames(path, lines )\n",
      "\u001b[0;31mAttributeError\u001b[0m: '_io.TextIOWrapper' object has no attribute 'split'"
     ]
    }
   ],
   "source": [
    "file = open('quotes.txt', 'r')\n",
    "len = file.split(\"\\n\") \n",
    "print(len) \n",
    "names = readNames(path, lines )"
   ]
  },
  {
   "cell_type": "markdown",
   "metadata": {},
   "source": [
    "<div class=\"exercise\"><b>Exercise 6</b></div> \n",
    "\n",
    "Write a function `numWordsPerLine(filepath)` that processes the file as in **Exercise 5** and returns the tuple produced (this is just to give you practice writing code as functions)--we will use the function shortly. Note that `filepath` should be the path to the input file."
   ]
  },
  {
   "cell_type": "code",
   "execution_count": null,
   "metadata": {},
   "outputs": [],
   "source": []
  },
  {
   "cell_type": "markdown",
   "metadata": {},
   "source": [
    "Let's now get some practice using the `os.path.join(.)` method.  Run the following code cell"
   ]
  },
  {
   "cell_type": "code",
   "execution_count": 3,
   "metadata": {},
   "outputs": [],
   "source": [
    "import os\n",
    "\n",
    "datadir = \"hw02Data\""
   ]
  },
  {
   "cell_type": "markdown",
   "metadata": {},
   "source": [
    "<div class=\"exercise\"><b>Exercise 7</b></div> \n",
    "\n",
    "There is text file called `summerDay.txt` in the `hw02Data` folder.  Create a file path called `filepath` by using the `os.path.join(.)` method to join together `datadir` and the name of the file `summerDay.txt`.  Then call the function `numWordsPerLine(filepath)` you wrote in **Exercise 6** and pass in `filepath`.  You may want to review page 56 of the Course Notes.\n",
    "\n",
    "The output from my solution is:<br>\n",
    "<code>\n",
    "[[1, 8], [2, 7], [3, 9], [4, 9], [5, 8], [6, 7], [7, 7], [8, 7], [9, 7], [10, 8], [11, 9], [12, 8], [13, 10], [14, 10]]</code>"
   ]
  },
  {
   "cell_type": "code",
   "execution_count": null,
   "metadata": {},
   "outputs": [],
   "source": []
  },
  {
   "cell_type": "markdown",
   "metadata": {},
   "source": [
    "<div class=\"exercise\"><b>Exercise 8</b></div> \n",
    "\n",
    "There is text file called `babyNames.txt` in the `hw02Data` folder that is a variation on that considered on pages 69-70 of the Course Notes as depicted below:\n",
    "\n",
    "    22127,      Jacob\n",
    "    18002,      Ethan\n",
    "    17350,    Michael\n",
    "    17179,     Jayden\n",
    "    17051,    William\n",
    "    16756,  Alexander\n",
    "    \n",
    "Each line of the file captures one data case/observation. The values are separated by commas, with the count occurring first and the name second, and *spaces* (not tabs)  are used to align the columns of data to make it easier for a human reader.\n",
    "\n",
    "In the cell below, **complete the function**\n",
    "\n",
    "    `readNamesCounts(filepath)`\n",
    "\n",
    "that processes the filepath file and returns two lists: `namelist` = list of names and `countlist` = integer counts. To accomplish this, modify the `readNamesCounts(.)` function on page 69 of the Course Notes (be sure to use the `with open` approach). You may need to call `strip()` twice, once to remove the newline `\\n` characters and again later to remove the spaces.\n",
    "\n",
    "The output from my solution is:<br>\n",
    "<code>\n",
    "['Jacob', 'Ethan', 'Michael', 'Jayden', 'William', 'Alexander']\n",
    "[22127, 18002, 17350, 17179, 17051, 16756]</code>"
   ]
  },
  {
   "cell_type": "code",
   "execution_count": null,
   "metadata": {},
   "outputs": [],
   "source": [
    "def readNamesCounts(filepath):\n",
    "    namelist = []\n",
    "    countlist = []\n",
    "    ## FINISH THE FUNCTION HERE\n",
    "    \n",
    "\n",
    "filepath = os.path.join(datadir, \"babyNames.txt\")\n",
    "namelist, countlist = readNamesCounts(filepath)\n",
    "print(namelist)\n",
    "print(countlist)"
   ]
  },
  {
   "cell_type": "code",
   "execution_count": null,
   "metadata": {},
   "outputs": [],
   "source": []
  }
 ],
 "metadata": {
  "celltoolbar": "Raw Cell Format",
  "kernelspec": {
   "display_name": "Python 3 (ipykernel)",
   "language": "python",
   "name": "python3"
  },
  "language_info": {
   "codemirror_mode": {
    "name": "ipython",
    "version": 3
   },
   "file_extension": ".py",
   "mimetype": "text/x-python",
   "name": "python",
   "nbconvert_exporter": "python",
   "pygments_lexer": "ipython3",
   "version": "3.10.9"
  }
 },
 "nbformat": 4,
 "nbformat_minor": 2
}
