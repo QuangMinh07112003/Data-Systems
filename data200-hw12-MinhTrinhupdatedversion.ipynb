{
 "cells": [
  {
   "cell_type": "markdown",
   "metadata": {},
   "source": [
    "# Data 200: Data Systems for Data Analytics (Spring 2024)"
   ]
  },
  {
   "cell_type": "markdown",
   "metadata": {},
   "source": [
    "# Homework 13: Web Scraping with Selenium\n",
    "\n",
    "<font color='red'>**Due Date and Time:** 1:30pm on Friday, 4/26/2024 </font>\n",
    "---\n",
    "Enter your name in the markdown cell below."
   ]
  },
  {
   "cell_type": "markdown",
   "metadata": {},
   "source": [
    "# Name: Minh Trinh"
   ]
  },
  {
   "cell_type": "code",
   "execution_count": 1,
   "metadata": {},
   "outputs": [
    {
     "data": {
      "text/html": [
       "<style>\n",
       "blockquote { background: #AEDE94; }\n",
       "h1 { \n",
       "    padding-top: 25px;\n",
       "    padding-bottom: 25px;\n",
       "    text-align: left; \n",
       "    padding-left: 10px;\n",
       "    background-color: #DDDDDD; \n",
       "    color: black;\n",
       "}\n",
       "h2 { \n",
       "    padding-top: 10px;\n",
       "    padding-bottom: 10px;\n",
       "    text-align: left; \n",
       "    padding-left: 5px;\n",
       "    background-color: #EEEEEE; \n",
       "    color: black;\n",
       "}\n",
       "\n",
       "div.exercise {\n",
       "\tbackground-color: #ffcccc;\n",
       "\tborder-color: #E9967A; \t\n",
       "\tborder-left: 5px solid #800080; \n",
       "\tpadding: 0.5em;\n",
       "}\n",
       "\n",
       "div.exercise-r {\n",
       "\tbackground-color: #fce8e8;\n",
       "\tborder-color: #E9967A; \t\n",
       "\tborder-left: 5px solid #800080; \n",
       "\tpadding: 0.5em;\n",
       "}\n",
       "\n",
       "\n",
       "span.sub-q {\n",
       "\tfont-weight: bold;\n",
       "}\n",
       "div.theme {\n",
       "\tbackground-color: #DDDDDD;\n",
       "\tborder-color: #E9967A; \t\n",
       "\tborder-left: 5px solid #800080; \n",
       "\tpadding: 0.5em;\n",
       "\tfont-size: 18pt;\n",
       "}\n",
       "div.gc { \n",
       "\tbackground-color: #AEDE94;\n",
       "\tborder-color: #E9967A; \t \n",
       "\tborder-left: 5px solid #800080; \n",
       "\tpadding: 0.5em;\n",
       "\tfont-size: 12pt;\n",
       "}\n",
       "p.q1 { \n",
       "    padding-top: 5px;\n",
       "    padding-bottom: 5px;\n",
       "    text-align: left; \n",
       "    padding-left: 5px;\n",
       "    background-color: #EEEEEE; \n",
       "    color: black;\n",
       "}\n",
       "header {\n",
       "   padding-top: 35px;\n",
       "    padding-bottom: 35px;\n",
       "    text-align: left; \n",
       "    padding-left: 10px;\n",
       "    background-color: #DDDDDD; \n",
       "    color: black;\n",
       "}\n",
       "</style>\n",
       "\n"
      ],
      "text/plain": [
       "<IPython.core.display.HTML object>"
      ]
     },
     "execution_count": 1,
     "metadata": {},
     "output_type": "execute_result"
    }
   ],
   "source": [
    "## RUN THIS CELL TO GET THE RIGHT FORMATTING AND TO LOAD NumPy\n",
    "import requests\n",
    "import numpy as np\n",
    "from IPython.core.display import HTML\n",
    "styles = requests.get(\"https://raw.githubusercontent.com/Harvard-IACS/2018-CS109A/master/content/styles/cs109.css\").text\n",
    "HTML(styles)"
   ]
  },
  {
   "cell_type": "markdown",
   "metadata": {},
   "source": [
    "# Tasks\n",
    "\n",
    "- Review pages 337-368 in the Course Notes.\n",
    "- Complete the **CSS Locators, Chaining, and Responses** and **Spiders** chapters of the **Web Scraping in Python** course on DataCamp.\n",
    "- E-mail me your completed Jupyter notebook."
   ]
  },
  {
   "cell_type": "markdown",
   "metadata": {},
   "source": [
    "# Exercises"
   ]
  },
  {
   "cell_type": "markdown",
   "metadata": {},
   "source": [
    "In this homework, we'll sharpen our web scraping skills by exploring the website https://books.toscrape.com. This fictional bookstore was designed specifically for practicing web scraping.\n",
    "\n",
    "We first need to import the required libraries.\n",
    "\n",
    "**Study and run the code cell below**"
   ]
  },
  {
   "cell_type": "code",
   "execution_count": 2,
   "metadata": {},
   "outputs": [],
   "source": [
    "import pandas as pd\n",
    "import time\n",
    "import random\n",
    "\n",
    "from selenium import webdriver\n",
    "from selenium.webdriver.common.by import By"
   ]
  },
  {
   "cell_type": "markdown",
   "metadata": {},
   "source": [
    "Now we need to initialize the WebDriver service and launch the Chrome browser. \n",
    "\n",
    "**Study and run the code cell below**, but be sure that `chromedriver.exe` is in the same directory as this notebook or update it to the full path to the driver."
   ]
  },
  {
   "cell_type": "code",
   "execution_count": 3,
   "metadata": {},
   "outputs": [],
   "source": [
    "service = webdriver.ChromeService()\n",
    "driver = webdriver.Chrome(service=service)"
   ]
  },
  {
   "cell_type": "markdown",
   "metadata": {},
   "source": [
    "<div class=\"exercise\"><b>Exercise 1:</b></div> \n",
    "\n",
    "The goal of this homework is to create a data frame that contains information about all the Fiction books, specifically, the titles, prices, and descriptions.\n",
    "\n",
    "Toward that end, use the `driver.get()` method to open the browser to the page related to Ficton. To accomplish this, read over page 357 in the notes, and then\n",
    "- Open a browser to https://books.toscrape.com\n",
    "- **Select Fiction** from the menu on the left\n",
    "- Copy the URL\n",
    "- Paste it into the `driver.get()` method\n",
    "\n",
    "You will know if you did this correctly if the Chrome window that is being controlled by driver opens to the Fiction page."
   ]
  },
  {
   "cell_type": "code",
   "execution_count": 4,
   "metadata": {},
   "outputs": [],
   "source": [
    "driver.get(\"https://books.toscrape.com/catalogue/category/books/fiction_10/index.html\")"
   ]
  },
  {
   "cell_type": "markdown",
   "metadata": {},
   "source": [
    "<div class=\"exercise\"><b>Exercise 2:</b></div> \n",
    "\n",
    "Let's see if we can scrape the title of the first book listed, which is *Soumission*. To accomplish this, you will need to\n",
    "\n",
    "- **Review pages 359-361 in the Course Notes**\n",
    "- Right click on the title of the book in your browser and select Inspect\n",
    "- In the developer tab, right click on the `title=\"soumission\"` attribute and select `Copy -> Copy XPath`\n",
    "- Use the `driver.find_element()` function to obtain the Element containing the title (via the XPath you just copied) and assign it to `title_element`\n",
    "- Print out the title with the command `print(title_element.text)`--note that I already included this code\n",
    "\n",
    "The expected output should be\n",
    "\n",
    "<code>\n",
    "Soumission\n",
    "</code>"
   ]
  },
  {
   "cell_type": "code",
   "execution_count": 5,
   "metadata": {},
   "outputs": [
    {
     "name": "stdout",
     "output_type": "stream",
     "text": [
      "Soumission\n"
     ]
    }
   ],
   "source": [
    "# Your code here\n",
    "title_element = driver.find_element('xpath', '//*[@id=\"default\"]/div/div/div/div/section/div[2]/ol/li[1]/article/h3/a')\n",
    "print(title_element.text)"
   ]
  },
  {
   "cell_type": "markdown",
   "metadata": {},
   "source": [
    "<div class=\"exercise\"><b>Exercise 3:</b></div> \n",
    "\n",
    "Now let's see if we can scrape the price of the first book listed, which is *£50.10*. To accomplish this, you will need to\n",
    "\n",
    "- Right click on the price of the book in your browser and select Inspect\n",
    "- In the developer tab, right click on the price (£50.10) and select `Copy -> Copy XPath`\n",
    "- Use the `driver.find_element()` function to obtain the Element containing the price (via the XPath you just copied) and assign it to `price_element`\n",
    "- Print out the price with the command `print(print_element.text)`--note that I already included this code\n",
    "\n",
    "The expected output should be\n",
    "\n",
    "<code>\n",
    "£50.10\n",
    "</code>"
   ]
  },
  {
   "cell_type": "code",
   "execution_count": 6,
   "metadata": {},
   "outputs": [
    {
     "name": "stdout",
     "output_type": "stream",
     "text": [
      "£50.10\n"
     ]
    }
   ],
   "source": [
    "# Your code here\n",
    "price_element = driver.find_element('xpath', '//*[@id=\"default\"]/div/div/div/div/section/div[2]/ol/li[1]/article/div[2]/p[1]')\n",
    "\n",
    "print(price_element.text)"
   ]
  },
  {
   "cell_type": "markdown",
   "metadata": {},
   "source": [
    "<div class=\"exercise\"><b>Exercise 4:</b></div> \n",
    "\n",
    "We are now interested in creating a Python list, `book_titles`, of <u>all</u> the Fiction titles (on the first page). By exploring the HTML code on this webpage we can see that the information related to each book is stored within an <code>&lt;article class=\"product_pod\"&gt;</code> element. That is, there is a <code>&lt;article class=\"product_pod\"&gt;</code> element for each book.\n",
    "\n",
    "For example, all the information stored about the first book, *Soumission*, is stored in the following element: \n",
    "\n",
    "<code>\n",
    "&lt;article class=\"product_pod\"&gt;\n",
    "  &lt;div class=\"image_container\"&gt;\n",
    "     &lt;a href=\"../../../soumission_998/index.html\"&gt;\n",
    "       &lt;img src=\"..2830.jpg\" alt=\"Soumission\" class=\"thumbnail\"&gt;\n",
    "     &lt;/a&gt;\n",
    "  &lt;/div&gt;\n",
    "  &lt;p class=\"star-rating One\"&gt;...&lt;/p&gt;\n",
    "  &lt;h3&gt;\n",
    "     <b>&lt;a href=\"../../../soumission_998/index.html\" title=\"Soumission\"&gt;Soumission&lt;/a&gt;</B>\n",
    "  &lt;/h3&gt;\n",
    "  &lt;div class=\"product_price\"&gt;\n",
    "     &lt;p class=\"price_color\"&gt;£50.10&lt;/p&gt;\n",
    "     &lt;p class=\"instock availability\"&gt;\n",
    "        &lt;i class=\"icon-ok\"&gt;&lt;/i&gt; In stock\n",
    "     &lt;/p&gt;\n",
    "     &lt;form&gt;...&lt;/form&gt;\n",
    "  &lt;/div&gt;\n",
    "&lt;/article&gt;\n",
    "</code>\n",
    "    \n",
    "Furthermore, all the information stored about the second book, *Private Paris (Private #10)*, is stored in this element: \n",
    "    \n",
    "<code>\n",
    "&lt;article class=\"product_pod\"&gt;\n",
    "  &lt;div class=\"image_container\"&gt;\n",
    "      &lt;a href=\"../../../private-paris-private-10_958/index.html\"&gt;\n",
    "        &lt;img src=\"...c26.jpg\" alt=\"Private Paris (Private #10)\" class=\"thumbnail\"&gt;\n",
    "      &lt;/a&gt;\n",
    "  &lt;/div&gt;\n",
    "  &lt;p class=\"star-rating Five\"&gt;...&lt;/p&gt;\n",
    "  &lt;h3&gt;\n",
    "      <b>&lt;a href=\"../../../private-paris-private-10_958/index.html\" title=\"Private Paris (Private #10)\"&gt;Private Paris (Private #10)&lt;/a&gt;</b>\n",
    "  &lt;/h3&gt;\n",
    "  &lt;div class=\"product_price\"&gt;\n",
    "      &lt;p class=\"price_color\"&gt;£47.61&lt;/p&gt;\n",
    "      &lt;p class=\"instock availability\"&gt;\n",
    "         &lt;i class=\"icon-ok\"&gt;&lt;/i&gt; In stock\n",
    "      &lt;/p&gt;\n",
    "      &lt;form&gt;...&lt;/form&gt;\n",
    "  &lt;/div&gt;\n",
    "&lt;/article&gt;\n",
    "</code> \n",
    "    \n",
    "We can create a Python list of all the elements that match <code>&lt;article class=\"product_pod\"&gt;</code> using the `find_element(By.CLASS_NAME, \"class name\")` function, replacing `\"class name\"` with `\"product_pod\"`. Specifically,\n",
    "    \n",
    "**`book_elements = driver.find_elements(By.CLASS_NAME, \"product_pod\")`**\n",
    "    \n",
    "Thus, `book_elements` is a Python list of all the elements that have a class name `\"product_pod\"`. For example, `book_elements[0]` would be the element corresponding to the first book, *Soumission*, and it would have the structure above. Note that the relative XPath to the title is `h3/a` (make sure you understand where this path came from by studying the elements above before moving on). So we can find the title of the first book using the code below.\n",
    "\n",
    "**Study and run the code cell below.**"
   ]
  },
  {
   "cell_type": "code",
   "execution_count": 7,
   "metadata": {},
   "outputs": [
    {
     "name": "stdout",
     "output_type": "stream",
     "text": [
      "Soumission\n"
     ]
    }
   ],
   "source": [
    "book_elements = driver.find_elements(By.CLASS_NAME, \"product_pod\")\n",
    "\n",
    "title_element = book_elements[0].find_element('xpath',\"h3/a\")\n",
    "book_title = title_element.get_attribute('title')\n",
    "\n",
    "print(book_title)"
   ]
  },
  {
   "cell_type": "markdown",
   "metadata": {},
   "source": [
    "**It is now your turn--complete the Python code below to create a list, `book_titles`, that contains the titles of all the books.** Please review the code cell you just ran along with page 362 in the Course Notes first.  The expected output is\n",
    "\n",
    "<code>\n",
    "['Soumission', 'Private Paris (Private #10)', 'We Love You, Charlie Freeman', 'Thirst', 'The Murder That Never Was (Forensic Instincts #5)', 'Tuesday Nights in 1980', 'The Vacationers', 'The Regional Office Is Under Attack!', 'Finders Keepers (Bill Hodges Trilogy #2)', 'The Time Keeper', 'The Testament of Mary', 'The First Hostage (J.B. Collins #2)', 'Take Me with You', 'Still Life with Bread Crumbs', 'Shtum', 'My Name Is Lucy Barton', 'My Mrs. Brown', 'Mr. Mercedes (Bill Hodges Trilogy #1)', 'I Am Pilgrim (Pilgrim #1)', 'Eligible (The Austen Project #4)']\n",
    "</code>"
   ]
  },
  {
   "cell_type": "code",
   "execution_count": 8,
   "metadata": {},
   "outputs": [
    {
     "name": "stdout",
     "output_type": "stream",
     "text": [
      "['Soumission', 'Private Paris (Private #10)', 'We Love You, Charlie Freeman', 'Thirst', 'The Murder That Never Was (Forensic Instincts #5)', 'Tuesday Nights in 1980', 'The Vacationers', 'The Regional Office Is Under Attack!', 'Finders Keepers (Bill Hodges Trilogy #2)', 'The Time Keeper', 'The Testament of Mary', 'The First Hostage (J.B. Collins #2)', 'Take Me with You', 'Still Life with Bread Crumbs', 'Shtum', 'My Name Is Lucy Barton', 'My Mrs. Brown', 'Mr. Mercedes (Bill Hodges Trilogy #1)', 'I Am Pilgrim (Pilgrim #1)', 'Eligible (The Austen Project #4)']\n"
     ]
    }
   ],
   "source": [
    "book_elements = driver.find_elements(By.CLASS_NAME, \"product_pod\")\n",
    "\n",
    "book_titles=[]\n",
    "\n",
    "for element in book_elements:\n",
    "    title_element = element.find_element('xpath',\"h3/a\")\n",
    "    book_titles.append(title_element.get_attribute('title'))\n",
    "    \n",
    "print(book_titles)"
   ]
  },
  {
   "cell_type": "markdown",
   "metadata": {},
   "source": [
    "<div class=\"exercise\"><b>Exercise 5:</b></div> \n",
    "\n",
    "We are now interested in creating a Python list, `book_urls`, of all the weblinks (urls) to the book descriptions. Note that we can get this information from our list `book_elements`. Recall that the element for the first book, *Soumission*, is as follows.\n",
    "\n",
    "<code>\n",
    "&lt;article class=\"product_pod\"&gt;\n",
    "  &lt;div class=\"image_container\"&gt;\n",
    "     &lt;a href=\"../../../soumission_998/index.html\"&gt;\n",
    "       &lt;img src=\"..2830.jpg\" alt=\"Soumission\" class=\"thumbnail\"&gt;\n",
    "     &lt;/a&gt;\n",
    "  &lt;/div&gt;\n",
    "  &lt;p class=\"star-rating One\"&gt;...&lt;/p&gt;\n",
    "  &lt;h3&gt;\n",
    "    <b>&lt;a href=\"../../../soumission_998/index.html\" title=\"Soumission\"&gt;Soumission&lt;/a&gt;</b>\n",
    "  &lt;/h3&gt;\n",
    "  &lt;div class=\"product_price\"&gt;\n",
    "     &lt;p class=\"price_color\"&gt;£50.10&lt;/p&gt;\n",
    "     &lt;p class=\"instock availability\"&gt;\n",
    "        &lt;i class=\"icon-ok\"&gt;&lt;/i&gt; In stock\n",
    "     &lt;/p&gt;\n",
    "     &lt;form&gt;...&lt;/form&gt;\n",
    "  &lt;/div&gt;\n",
    "&lt;/article&gt;\n",
    "</code>\n",
    "    \n",
    "Note that the relative XPath to the url (which has the attribute `href`) is the same as the title: `h3/a`. So we can find the url of the first book using the code below.\n",
    "\n",
    "**Study and run the code cell below.**"
   ]
  },
  {
   "cell_type": "code",
   "execution_count": 9,
   "metadata": {},
   "outputs": [
    {
     "name": "stdout",
     "output_type": "stream",
     "text": [
      "https://books.toscrape.com/catalogue/soumission_998/index.html\n"
     ]
    }
   ],
   "source": [
    "url_element = book_elements[0].find_element('xpath',\"h3/a\")\n",
    "book_url = url_element.get_attribute('href')\n",
    "\n",
    "print(book_url)"
   ]
  },
  {
   "cell_type": "markdown",
   "metadata": {},
   "source": [
    "**It is now your turn--complete the Python code below to create a list, `book_urls`, that contains the urls of all the books.** This is almost identical to what you did in Exercise 4.  The expected output is\n",
    "\n",
    "<code>\n",
    "['https://books.toscrape.com/catalogue/soumission_998/index.html', 'https://books.toscrape.com/catalogue/private-paris-private-10_958/index.html', 'https://books.toscrape.com/catalogue/we-love-you-charlie-freeman_954/index.html', 'https://books.toscrape.com/catalogue/thirst_946/index.html', 'https://books.toscrape.com/catalogue/the-murder-that-never-was-forensic-instincts-5_939/index.html', 'https://books.toscrape.com/catalogue/tuesday-nights-in-1980_870/index.html', 'https://books.toscrape.com/catalogue/the-vacationers_863/index.html', 'https://books.toscrape.com/catalogue/the-regional-office-is-under-attack_858/index.html', 'https://books.toscrape.com/catalogue/finders-keepers-bill-hodges-trilogy-2_807/index.html', 'https://books.toscrape.com/catalogue/the-time-keeper_766/index.html', 'https://books.toscrape.com/catalogue/the-testament-of-mary_765/index.html', 'https://books.toscrape.com/catalogue/the-first-hostage-jb-collins-2_749/index.html', 'https://books.toscrape.com/catalogue/take-me-with-you_741/index.html', 'https://books.toscrape.com/catalogue/still-life-with-bread-crumbs_738/index.html', 'https://books.toscrape.com/catalogue/shtum_733/index.html', 'https://books.toscrape.com/catalogue/my-name-is-lucy-barton_720/index.html', 'https://books.toscrape.com/catalogue/my-mrs-brown_719/index.html', 'https://books.toscrape.com/catalogue/mr-mercedes-bill-hodges-trilogy-1_717/index.html', 'https://books.toscrape.com/catalogue/i-am-pilgrim-pilgrim-1_703/index.html', 'https://books.toscrape.com/catalogue/eligible-the-austen-project-4_692/index.html']\n",
    "</code>"
   ]
  },
  {
   "cell_type": "code",
   "execution_count": 10,
   "metadata": {},
   "outputs": [
    {
     "name": "stdout",
     "output_type": "stream",
     "text": [
      "['https://books.toscrape.com/catalogue/soumission_998/index.html', 'https://books.toscrape.com/catalogue/private-paris-private-10_958/index.html', 'https://books.toscrape.com/catalogue/we-love-you-charlie-freeman_954/index.html', 'https://books.toscrape.com/catalogue/thirst_946/index.html', 'https://books.toscrape.com/catalogue/the-murder-that-never-was-forensic-instincts-5_939/index.html', 'https://books.toscrape.com/catalogue/tuesday-nights-in-1980_870/index.html', 'https://books.toscrape.com/catalogue/the-vacationers_863/index.html', 'https://books.toscrape.com/catalogue/the-regional-office-is-under-attack_858/index.html', 'https://books.toscrape.com/catalogue/finders-keepers-bill-hodges-trilogy-2_807/index.html', 'https://books.toscrape.com/catalogue/the-time-keeper_766/index.html', 'https://books.toscrape.com/catalogue/the-testament-of-mary_765/index.html', 'https://books.toscrape.com/catalogue/the-first-hostage-jb-collins-2_749/index.html', 'https://books.toscrape.com/catalogue/take-me-with-you_741/index.html', 'https://books.toscrape.com/catalogue/still-life-with-bread-crumbs_738/index.html', 'https://books.toscrape.com/catalogue/shtum_733/index.html', 'https://books.toscrape.com/catalogue/my-name-is-lucy-barton_720/index.html', 'https://books.toscrape.com/catalogue/my-mrs-brown_719/index.html', 'https://books.toscrape.com/catalogue/mr-mercedes-bill-hodges-trilogy-1_717/index.html', 'https://books.toscrape.com/catalogue/i-am-pilgrim-pilgrim-1_703/index.html', 'https://books.toscrape.com/catalogue/eligible-the-austen-project-4_692/index.html']\n"
     ]
    }
   ],
   "source": [
    "book_urls=[]\n",
    "\n",
    "for element in book_elements:\n",
    "    url_element = element.find_element('xpath',\"h3/a\")\n",
    "    book_urls.append(url_element.get_attribute('href'))\n",
    "print(book_urls)"
   ]
  },
  {
   "cell_type": "markdown",
   "metadata": {},
   "source": [
    "<div class=\"exercise\"><b>Exercise 6:</b></div> \n",
    "\n",
    "We are now interested in creating a Python list, `book_prices`, of all the prices of the books. As before, we can get this information from our list `book_elements`. Recall that the element for the first book, *Soumission*, is as follows.\n",
    "\n",
    "<code>\n",
    "&lt;article class=\"product_pod\"&gt;\n",
    "  &lt;div class=\"image_container\"&gt;\n",
    "     &lt;a href=\"../../../soumission_998/index.html\"&gt;\n",
    "       &lt;img src=\"..2830.jpg\" alt=\"Soumission\" class=\"thumbnail\"&gt;\n",
    "     &lt;/a&gt;\n",
    "  &lt;/div&gt;\n",
    "  &lt;p class=\"star-rating One\"&gt;...&lt;/p&gt;\n",
    "  &lt;h3&gt;\n",
    "    &lt;a href=\"../../../soumission_998/index.html\" title=\"Soumission\"&gt;Soumission&lt;/a&gt;\n",
    "  &lt;/h3&gt;\n",
    "  &lt;div class=\"product_price\"&gt;\n",
    "    <b>&lt;p class=\"price_color\"&gt;£50.10&lt;/p&gt;</b>\n",
    "     &lt;p class=\"instock availability\"&gt;\n",
    "        &lt;i class=\"icon-ok\"&gt;&lt;/i&gt; In stock\n",
    "     &lt;/p&gt;\n",
    "     &lt;form&gt;...&lt;/form&gt;\n",
    "  &lt;/div&gt;\n",
    "&lt;/article&gt;\n",
    "</code>\n",
    "    \n",
    "Note that the relative XPath to the price is `div/p` (make sure you understand where this came from by studying the element above before moving on). So we can find the cost of the first book, **which is stored between tags as opposed to being stored as an attribute**, using the `.text` method.\n",
    "\n",
    "**Study and run the code cell below.**"
   ]
  },
  {
   "cell_type": "code",
   "execution_count": 11,
   "metadata": {},
   "outputs": [
    {
     "name": "stdout",
     "output_type": "stream",
     "text": [
      "£50.10\n"
     ]
    }
   ],
   "source": [
    "price_element = book_elements[0].find_element('xpath',\"div/p\")\n",
    "book_price = price_element.text\n",
    "\n",
    "print(book_price)"
   ]
  },
  {
   "cell_type": "markdown",
   "metadata": {},
   "source": [
    "**It is now your turn--complete the Python code below to create a list, `book_prices`, that contains the prices of all the books.** Please review the code cell you just ran along with page 162 in the Course Notes first.  The expected output is\n",
    "\n",
    "<code>\n",
    "['£50.10', '£47.61', '£50.27', '£17.27', '£54.11', '£21.04', '£42.15', '£51.36', '£53.53', '£27.88', '£52.67', '£25.85', '£45.21', '£26.41', '£55.84', '£41.56', '£24.48', '£28.90', '£10.60', '£27.09']\n",
    "</code>"
   ]
  },
  {
   "cell_type": "code",
   "execution_count": 12,
   "metadata": {},
   "outputs": [
    {
     "name": "stdout",
     "output_type": "stream",
     "text": [
      "['£50.10', '£47.61', '£50.27', '£17.27', '£54.11', '£21.04', '£42.15', '£51.36', '£53.53', '£27.88', '£52.67', '£25.85', '£45.21', '£26.41', '£55.84', '£41.56', '£24.48', '£28.90', '£10.60', '£27.09']\n"
     ]
    }
   ],
   "source": [
    "book_prices=[]\n",
    "\n",
    "for element in book_elements:\n",
    "    price_element = element.find_element('xpath',\"div/p\")\n",
    "    book_prices.append(price_element.text)\n",
    "    \n",
    "print(book_prices)"
   ]
  },
  {
   "cell_type": "markdown",
   "metadata": {},
   "source": [
    "<div class=\"exercise\"><b>Exercise 7:</b></div> \n",
    "\n",
    "Now we want to create a Python list, `book_descs`, of all the book descriptions. Recall that the book descriptions are not provided on the main webpage, rather, we need to click the link associated with each book. Note that we can use the list of urls, `book_urls`, that we created in Exercise 5.\n",
    "\n",
    "In the code cell below, I use a for-loop over all the urls in `book_urls` and extract the book descriptions. **The code is complete except for one piece--the XPath to the book description.** Use Inspect on your browser to the get the XPath to the description and replace it in the code below.\n",
    "\n",
    "The expected output is as follows.\n",
    "\n",
    "<code>\n",
    "Paris is burning--and only Private's Jack Morgan can put out the fire.When Jack Morgan stops by Private's Paris office, he envisions a quick hello during an otherwise relaxing trip filled with fine food and sightseeing. But Jack is quickly pressed into duty after a call from his client Sherman Wilkerson, asking Jack to track down his young granddaughter who is on the run f Paris is burning--and only Private's Jack Morgan can put out the fire.When Jack Morgan stops by Private's Paris office, he envisions a quick hello during an otherwise relaxing trip filled with fine food and sightseeing. But Jack is quickly pressed into duty after a call from his client Sherman Wilkerson, asking Jack to track down his young granddaughter who is on the run from a brutal drug dealer.Before Jack can locate her, several members of France's cultural elite are found dead--murdered in stunning, symbolic fashion. The only link between the crimes is a mysterious graffiti tag. As religious and ethnic tensions simmer in the City of Lights, only Jack and his Private team can connect the dots before the smoldering powder keg explodes. ...more\n",
    "</code>\n",
    "<code>\n",
    "The number of book descriptions is 20\n",
    "</code>"
   ]
  },
  {
   "cell_type": "code",
   "execution_count": 14,
   "metadata": {},
   "outputs": [
    {
     "name": "stdout",
     "output_type": "stream",
     "text": [
      "Paris is burning--and only Private's Jack Morgan can put out the fire.When Jack Morgan stops by Private's Paris office, he envisions a quick hello during an otherwise relaxing trip filled with fine food and sightseeing. But Jack is quickly pressed into duty after a call from his client Sherman Wilkerson, asking Jack to track down his young granddaughter who is on the run f Paris is burning--and only Private's Jack Morgan can put out the fire.When Jack Morgan stops by Private's Paris office, he envisions a quick hello during an otherwise relaxing trip filled with fine food and sightseeing. But Jack is quickly pressed into duty after a call from his client Sherman Wilkerson, asking Jack to track down his young granddaughter who is on the run from a brutal drug dealer.Before Jack can locate her, several members of France's cultural elite are found dead--murdered in stunning, symbolic fashion. The only link between the crimes is a mysterious graffiti tag. As religious and ethnic tensions simmer in the City of Lights, only Jack and his Private team can connect the dots before the smoldering powder keg explodes. ...more\n",
      "\n",
      "The number of book descriptions is 20\n"
     ]
    }
   ],
   "source": [
    "book_descs = []\n",
    "\n",
    "for url in book_urls:\n",
    "    driver.get(url)\n",
    "    descrip = driver.find_element('xpath','//*[@id=\"content_inner\"]/article/p').text      # Update the XPath here\n",
    "    book_descs.append(descrip)\n",
    "\n",
    "print(book_descs[1])\n",
    "print('\\nThe number of book descriptions is ' + str(len(book_descs)))"
   ]
  },
  {
   "cell_type": "markdown",
   "metadata": {},
   "source": [
    "# Build a Data Frame"
   ]
  },
  {
   "cell_type": "markdown",
   "metadata": {},
   "source": [
    "We can now use `book_titles`, `book_prices`, and `book_descs` lists from the previous exercises to create a data frame of this informtion.\n",
    "\n",
    "**Study and run the code cell below**"
   ]
  },
  {
   "cell_type": "code",
   "execution_count": 18,
   "metadata": {},
   "outputs": [
    {
     "data": {
      "text/html": [
       "<div>\n",
       "<style scoped>\n",
       "    .dataframe tbody tr th:only-of-type {\n",
       "        vertical-align: middle;\n",
       "    }\n",
       "\n",
       "    .dataframe tbody tr th {\n",
       "        vertical-align: top;\n",
       "    }\n",
       "\n",
       "    .dataframe thead th {\n",
       "        text-align: right;\n",
       "    }\n",
       "</style>\n",
       "<table border=\"1\" class=\"dataframe\">\n",
       "  <thead>\n",
       "    <tr style=\"text-align: right;\">\n",
       "      <th></th>\n",
       "      <th>Title</th>\n",
       "      <th>Price</th>\n",
       "      <th>Description</th>\n",
       "    </tr>\n",
       "  </thead>\n",
       "  <tbody>\n",
       "    <tr>\n",
       "      <th>0</th>\n",
       "      <td>Soumission</td>\n",
       "      <td>£50.10</td>\n",
       "      <td>Dans une France assez proche de la nôtre, un h...</td>\n",
       "    </tr>\n",
       "    <tr>\n",
       "      <th>1</th>\n",
       "      <td>Private Paris (Private #10)</td>\n",
       "      <td>£47.61</td>\n",
       "      <td>Paris is burning--and only Private's Jack Morg...</td>\n",
       "    </tr>\n",
       "    <tr>\n",
       "      <th>2</th>\n",
       "      <td>We Love You, Charlie Freeman</td>\n",
       "      <td>£50.27</td>\n",
       "      <td>The Freeman family--Charles, Laurel, and their...</td>\n",
       "    </tr>\n",
       "    <tr>\n",
       "      <th>3</th>\n",
       "      <td>Thirst</td>\n",
       "      <td>£17.27</td>\n",
       "      <td>On a searing summer Friday, Eddie Chapman has ...</td>\n",
       "    </tr>\n",
       "    <tr>\n",
       "      <th>4</th>\n",
       "      <td>The Murder That Never Was (Forensic Instincts #5)</td>\n",
       "      <td>£54.11</td>\n",
       "      <td>Given the opportunity, would you assume someon...</td>\n",
       "    </tr>\n",
       "    <tr>\n",
       "      <th>...</th>\n",
       "      <td>...</td>\n",
       "      <td>...</td>\n",
       "      <td>...</td>\n",
       "    </tr>\n",
       "    <tr>\n",
       "      <th>60</th>\n",
       "      <td>When I'm Gone</td>\n",
       "      <td>£51.96</td>\n",
       "      <td>Dear Luke,First let me say—I love you…I didn’t...</td>\n",
       "    </tr>\n",
       "    <tr>\n",
       "      <th>61</th>\n",
       "      <td>The Silent Wife</td>\n",
       "      <td>£12.34</td>\n",
       "      <td>A chilling psychological thriller about a marr...</td>\n",
       "    </tr>\n",
       "    <tr>\n",
       "      <th>62</th>\n",
       "      <td>The Bette Davis Club</td>\n",
       "      <td>£30.66</td>\n",
       "      <td>The morning of her niece’s wedding, Margo Just...</td>\n",
       "    </tr>\n",
       "    <tr>\n",
       "      <th>63</th>\n",
       "      <td>Kitchens of the Great Midwest</td>\n",
       "      <td>£57.20</td>\n",
       "      <td>“A sweet and savory treat.” —People“An impress...</td>\n",
       "    </tr>\n",
       "    <tr>\n",
       "      <th>64</th>\n",
       "      <td>Bright Lines</td>\n",
       "      <td>£39.07</td>\n",
       "      <td>A vibrant debut novel, set in Brooklyn and Ban...</td>\n",
       "    </tr>\n",
       "  </tbody>\n",
       "</table>\n",
       "<p>65 rows × 3 columns</p>\n",
       "</div>"
      ],
      "text/plain": [
       "                                                Title   Price  \\\n",
       "0                                          Soumission  £50.10   \n",
       "1                         Private Paris (Private #10)  £47.61   \n",
       "2                        We Love You, Charlie Freeman  £50.27   \n",
       "3                                              Thirst  £17.27   \n",
       "4   The Murder That Never Was (Forensic Instincts #5)  £54.11   \n",
       "..                                                ...     ...   \n",
       "60                                      When I'm Gone  £51.96   \n",
       "61                                    The Silent Wife  £12.34   \n",
       "62                               The Bette Davis Club  £30.66   \n",
       "63                      Kitchens of the Great Midwest  £57.20   \n",
       "64                                       Bright Lines  £39.07   \n",
       "\n",
       "                                          Description  \n",
       "0   Dans une France assez proche de la nôtre, un h...  \n",
       "1   Paris is burning--and only Private's Jack Morg...  \n",
       "2   The Freeman family--Charles, Laurel, and their...  \n",
       "3   On a searing summer Friday, Eddie Chapman has ...  \n",
       "4   Given the opportunity, would you assume someon...  \n",
       "..                                                ...  \n",
       "60  Dear Luke,First let me say—I love you…I didn’t...  \n",
       "61  A chilling psychological thriller about a marr...  \n",
       "62  The morning of her niece’s wedding, Margo Just...  \n",
       "63  “A sweet and savory treat.” —People“An impress...  \n",
       "64  A vibrant debut novel, set in Brooklyn and Ban...  \n",
       "\n",
       "[65 rows x 3 columns]"
      ]
     },
     "execution_count": 18,
     "metadata": {},
     "output_type": "execute_result"
    }
   ],
   "source": [
    "bookDict = {'Title':book_titles,'Price':book_prices, 'Description':book_descs}\n",
    "\n",
    "bookDF = pd.DataFrame(bookDict)\n",
    "bookDF"
   ]
  },
  {
   "cell_type": "markdown",
   "metadata": {},
   "source": [
    "# Looping Over all Pages"
   ]
  },
  {
   "cell_type": "markdown",
   "metadata": {},
   "source": [
    "At this point we have extracted all the information from the first page of Fiction books. However, there are a total of four pages that we would like to extract. Luckily, the pages are numbered consecutively:\n",
    "\n",
    "https://books.toscrape.com/catalogue/category/books/fiction_10/page-1.html<br>\n",
    "https://books.toscrape.com/catalogue/category/books/fiction_10/page-2.html<br>\n",
    "https://books.toscrape.com/catalogue/category/books/fiction_10/page-3.html<br>\n",
    "https://books.toscrape.com/catalogue/category/books/fiction_10/page-4.html<br>\n",
    "\n",
    "We can use a for-loop to loop over each page, adding (concatenating) to our `book_titles`, `book_prices`, and `book_descs` lists.\n",
    "\n",
    "**Study and run the code cell below.**"
   ]
  },
  {
   "cell_type": "code",
   "execution_count": 22,
   "metadata": {},
   "outputs": [
    {
     "name": "stdout",
     "output_type": "stream",
     "text": [
      "Processing page 1\n",
      "Error!\n",
      "Processing page 2\n",
      "Error!\n",
      "Processing page 3\n",
      "Error!\n",
      "Processing page 4\n",
      "Error!\n",
      "Done processing\n"
     ]
    }
   ],
   "source": [
    "# Create empty lists\n",
    "book_titles=[]\n",
    "book_urls=[]\n",
    "book_prices=[]\n",
    "book_descs=[]\n",
    "\n",
    "# Loop over the four pages\n",
    "for j in range(1, 5):\n",
    "    try:\n",
    "        print('Processing page ' + str(j)) # displays current page we are processing\n",
    "        \n",
    "        driver.get('https://books.toscrape.com/catalogue/category/books/fiction_10/page-' + str(j) + '.html')\n",
    "        \n",
    "        # wait between 2-3 seconds\n",
    "        time.sleep(random.uniform(2,3))\n",
    "        \n",
    "        # Create list of elements\n",
    "        book_elements = driver.find_elements(By.CLASS_NAME, \"product_pod\")\n",
    "\n",
    "        for element in book_elements:\n",
    "            # Extract the title and url (both of which are located at the same XPath)\n",
    "            title_element = element.find_element('xpath',\"h3/a\")\n",
    "            book_titles.append(title_element.get_attribute('title'))\n",
    "            book_urls.append(title_element.get_attribute('href'))\n",
    "            \n",
    "            # Extract the price\n",
    "            price_element = element.find_element('xpath',\"div/p\")\n",
    "            book_prices.append(price_element.text)  \n",
    "\n",
    "    except:\n",
    "        print('Error!')\n",
    "\n",
    "print(\"Done processing\")\n",
    "\n",
    "# Extract the book descriptions using the urls\n",
    "for url in book_urls:\n",
    "    driver.get(url)\n",
    "    descrip = driver.find_element('xpath','//*[@id=\"content_inner\"]/article/p').text\n",
    "    book_descs.append(descrip)"
   ]
  },
  {
   "cell_type": "markdown",
   "metadata": {},
   "source": [
    "Finally, we can create a data frame of all the Fiction books.\n",
    "\n",
    "**Study and run the code cell below.**"
   ]
  },
  {
   "cell_type": "code",
   "execution_count": 23,
   "metadata": {},
   "outputs": [
    {
     "data": {
      "text/html": [
       "<div>\n",
       "<style scoped>\n",
       "    .dataframe tbody tr th:only-of-type {\n",
       "        vertical-align: middle;\n",
       "    }\n",
       "\n",
       "    .dataframe tbody tr th {\n",
       "        vertical-align: top;\n",
       "    }\n",
       "\n",
       "    .dataframe thead th {\n",
       "        text-align: right;\n",
       "    }\n",
       "</style>\n",
       "<table border=\"1\" class=\"dataframe\">\n",
       "  <thead>\n",
       "    <tr style=\"text-align: right;\">\n",
       "      <th></th>\n",
       "      <th>Title</th>\n",
       "      <th>Price</th>\n",
       "      <th>Description</th>\n",
       "    </tr>\n",
       "  </thead>\n",
       "  <tbody>\n",
       "  </tbody>\n",
       "</table>\n",
       "</div>"
      ],
      "text/plain": [
       "Empty DataFrame\n",
       "Columns: [Title, Price, Description]\n",
       "Index: []"
      ]
     },
     "execution_count": 23,
     "metadata": {},
     "output_type": "execute_result"
    }
   ],
   "source": [
    "bookDict = {'Title':book_titles,'Price':book_prices, 'Description':book_descs}\n",
    "\n",
    "bookDF = pd.DataFrame(bookDict)\n",
    "bookDF"
   ]
  },
  {
   "cell_type": "markdown",
   "metadata": {},
   "source": [
    "At this point we have successfully scraped the webpage and retrieved the information we needed to create our dataframe. We can now close the browser window controlled by the WebDriver and terminate the session completely.  **Run the code cell below to close the broswer window.**"
   ]
  },
  {
   "cell_type": "code",
   "execution_count": 24,
   "metadata": {},
   "outputs": [],
   "source": [
    "driver.quit()"
   ]
  },
  {
   "cell_type": "markdown",
   "metadata": {},
   "source": [
    "# Congratulations on Finishing Homework 14"
   ]
  }
 ],
 "metadata": {
  "celltoolbar": "Raw Cell Format",
  "kernelspec": {
   "display_name": "Python 3 (ipykernel)",
   "language": "python",
   "name": "python3"
  },
  "language_info": {
   "codemirror_mode": {
    "name": "ipython",
    "version": 3
   },
   "file_extension": ".py",
   "mimetype": "text/x-python",
   "name": "python",
   "nbconvert_exporter": "python",
   "pygments_lexer": "ipython3",
   "version": "3.10.9"
  }
 },
 "nbformat": 4,
 "nbformat_minor": 2
}
