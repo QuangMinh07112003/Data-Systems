{
 "cells": [
  {
   "cell_type": "markdown",
   "metadata": {},
   "source": [
    "# Data 200: Data Systems for Data Analytics (Spring 2024)"
   ]
  },
  {
   "cell_type": "markdown",
   "metadata": {},
   "source": [
    "# Homework 14: TMDb API\n",
    "\n",
    "<font color='red'>**Due Date and Time:** 1:30pm on Tuesday, 4/30/2024 </font>\n",
    "---\n",
    "Enter your name in the markdown cell below."
   ]
  },
  {
   "cell_type": "markdown",
   "metadata": {},
   "source": [
    "# Name: Minh Trinh"
   ]
  },
  {
   "cell_type": "code",
   "execution_count": 1,
   "metadata": {},
   "outputs": [
    {
     "data": {
      "text/html": [
       "<style>\n",
       "blockquote { background: #AEDE94; }\n",
       "h1 { \n",
       "    padding-top: 25px;\n",
       "    padding-bottom: 25px;\n",
       "    text-align: left; \n",
       "    padding-left: 10px;\n",
       "    background-color: #DDDDDD; \n",
       "    color: black;\n",
       "}\n",
       "h2 { \n",
       "    padding-top: 10px;\n",
       "    padding-bottom: 10px;\n",
       "    text-align: left; \n",
       "    padding-left: 5px;\n",
       "    background-color: #EEEEEE; \n",
       "    color: black;\n",
       "}\n",
       "\n",
       "div.exercise {\n",
       "\tbackground-color: #ffcccc;\n",
       "\tborder-color: #E9967A; \t\n",
       "\tborder-left: 5px solid #800080; \n",
       "\tpadding: 0.5em;\n",
       "}\n",
       "\n",
       "div.exercise-r {\n",
       "\tbackground-color: #fce8e8;\n",
       "\tborder-color: #E9967A; \t\n",
       "\tborder-left: 5px solid #800080; \n",
       "\tpadding: 0.5em;\n",
       "}\n",
       "\n",
       "\n",
       "span.sub-q {\n",
       "\tfont-weight: bold;\n",
       "}\n",
       "div.theme {\n",
       "\tbackground-color: #DDDDDD;\n",
       "\tborder-color: #E9967A; \t\n",
       "\tborder-left: 5px solid #800080; \n",
       "\tpadding: 0.5em;\n",
       "\tfont-size: 18pt;\n",
       "}\n",
       "div.gc { \n",
       "\tbackground-color: #AEDE94;\n",
       "\tborder-color: #E9967A; \t \n",
       "\tborder-left: 5px solid #800080; \n",
       "\tpadding: 0.5em;\n",
       "\tfont-size: 12pt;\n",
       "}\n",
       "p.q1 { \n",
       "    padding-top: 5px;\n",
       "    padding-bottom: 5px;\n",
       "    text-align: left; \n",
       "    padding-left: 5px;\n",
       "    background-color: #EEEEEE; \n",
       "    color: black;\n",
       "}\n",
       "header {\n",
       "   padding-top: 35px;\n",
       "    padding-bottom: 35px;\n",
       "    text-align: left; \n",
       "    padding-left: 10px;\n",
       "    background-color: #DDDDDD; \n",
       "    color: black;\n",
       "}\n",
       "</style>\n",
       "\n"
      ],
      "text/plain": [
       "<IPython.core.display.HTML object>"
      ]
     },
     "execution_count": 1,
     "metadata": {},
     "output_type": "execute_result"
    }
   ],
   "source": [
    "## RUN THIS CELL TO GET THE RIGHT FORMATTING AND TO LOAD NumPy\n",
    "import requests\n",
    "import numpy as np\n",
    "from IPython.core.display import HTML\n",
    "styles = requests.get(\"https://raw.githubusercontent.com/Harvard-IACS/2018-CS109A/master/content/styles/cs109.css\").text\n",
    "HTML(styles)"
   ]
  },
  {
   "cell_type": "markdown",
   "metadata": {},
   "source": [
    "# Tasks\n",
    "\n",
    "- Review pages 369-388 in the Course Notes.\n",
    "- **There is no DataCamp for this homework.**\n",
    "- E-mail me your completed Jupyter notebook."
   ]
  },
  {
   "cell_type": "markdown",
   "metadata": {},
   "source": [
    "We first need to import the required Python libraries (make sure that `util.py` is in the same directory as this notebook)--run the code cell below."
   ]
  },
  {
   "cell_type": "markdown",
   "metadata": {},
   "source": [
    "# Exercises"
   ]
  },
  {
   "cell_type": "code",
   "execution_count": 2,
   "metadata": {},
   "outputs": [],
   "source": [
    "import pandas as pd\n",
    "import util\n",
    "import requests"
   ]
  },
  {
   "cell_type": "markdown",
   "metadata": {},
   "source": [
    "**Modify the code cell below so that it contains <u>your</u> `apikey`**."
   ]
  },
  {
   "cell_type": "code",
   "execution_count": 3,
   "metadata": {},
   "outputs": [],
   "source": [
    "apikey = \"7330473c6f69c78ff6c190580ee91500\""
   ]
  },
  {
   "cell_type": "markdown",
   "metadata": {},
   "source": [
    "<div class=\"exercise\"><b>Exercise 1:</b></div> \n",
    "\n",
    "The goal of this exercise is to create a function `getMovieID(apikey, movie)` that will return the movie id for a given movie title. Note that this is similar to the `getActorID(apikey, actor)` function defined on page 386 of the notes.\n",
    "\n",
    "You will want to make use of the https://developer.themoviedb.org/reference/search-movie API. Here is my suggested approach:\n",
    "\n",
    "1. Go to https://developer.themoviedb.org/reference/search-movie and gain an understaning of how this API request works.\n",
    "1. Modify the `getActorID(apikey, movie)` function from page 386 of the notes so that it retrieves the movie id. You may need to study the returned JSON object to see how to retrieve the information. ***You can work under the assumption that the first movie returned is the correct movie you searched for, much like what we did when searching for an actor id.***\n",
    "\n",
    "In the second code cell below you can test your function, which should produce the following output:\n",
    "\n",
    "<code>\n",
    "872585\n",
    "</code>"
   ]
  },
  {
   "cell_type": "code",
   "execution_count": 8,
   "metadata": {},
   "outputs": [],
   "source": [
    "def getMovieID(apikey, movie):\n",
    "    url = \"https://api.themoviedb.org/3/search/movie\"\n",
    "    queryParams = {\"api_key\": apikey, \"query\":movie} \n",
    "    response = requests.get(url, params=queryParams)\n",
    "    data = response.json()\n",
    "    if 'results' in data and data['results']:\n",
    "        movie_id = data['results'][0]['id']\n",
    "    else:\n",
    "        print('No movie found.')\n",
    " \n",
    "    return movie_id"
   ]
  },
  {
   "cell_type": "markdown",
   "metadata": {},
   "source": [
    "Test your function using the code cell below, which should print `872585`."
   ]
  },
  {
   "cell_type": "code",
   "execution_count": 9,
   "metadata": {},
   "outputs": [
    {
     "name": "stdout",
     "output_type": "stream",
     "text": [
      "872585\n"
     ]
    }
   ],
   "source": [
    "movie_id = getMovieID(apikey, \"Oppenheimer\")\n",
    "\n",
    "print(movie_id)"
   ]
  },
  {
   "cell_type": "markdown",
   "metadata": {},
   "source": [
    "<div class=\"exercise\"><b>Exercise 2:</b></div> \n",
    "\n",
    "The goal of this exercise is to create a function `getCast(apikey, movie)` that will <u>return</u> a dataframe of the cast for a given movie title. Note that this is similar to the `getMoviesByActor(apikey, actor)` function defined on page 387 of the notes.\n",
    "\n",
    "You will want to make use of the https://developer.themoviedb.org/reference/movie-credits API, which has the form `https://api.themoviedb.org/3/movie/{movie_id}/credits`, which makes use of the movie id (which you can obtain using your `getMovieID()` function).\n",
    "\n",
    "Here is my suggested approach:\n",
    "\n",
    "1. Go to https://developer.themoviedb.org/reference/movie-credits and gain an understaning of how this API request works.\n",
    "1. Modify the `getMoviesByActor(apikey, actor)` function on page 387 of the notes so that it creates the data frame of the cast. \n",
    "\n",
    "In the second code cell below you can test your function, which should produce the following output:\n",
    "\n",
    "<code>\n",
    "               Character              Actor\n",
    "0  J. Robert Oppenheimer     Cillian Murphy\n",
    "1      Kitty Oppenheimer        Emily Blunt\n",
    "2          Leslie Groves         Matt Damon\n",
    "3          Lewis Strauss  Robert Downey Jr.\n",
    "4           Jean Tatlock      Florence Pugh\n",
    "</code>"
   ]
  },
  {
   "cell_type": "code",
   "execution_count": 10,
   "metadata": {},
   "outputs": [],
   "source": [
    "def getCast(apikey, movie):\n",
    "    movie_id = getMovieID(apikey, movie)\n",
    "    url = \"https://api.themoviedb.org/3/movie/\" + str(movie_id) + \"/credits\"\n",
    "    queryParams = {\"api_key\": apikey} \n",
    "    response = requests.get(url, params=queryParams)\n",
    "    data2 = response.json()\n",
    "    movies_data = data2['cast']\n",
    "    LoD = []\n",
    "    for actor in movies_data:\n",
    "        D = {}\n",
    "        D['Character'] = actor['character']\n",
    "        D['Name'] = actor['name']\n",
    "        LoD.append(D)\n",
    "    DF = pd.DataFrame(LoD)    \n",
    "    return DF"
   ]
  },
  {
   "cell_type": "code",
   "execution_count": 11,
   "metadata": {},
   "outputs": [
    {
     "name": "stdout",
     "output_type": "stream",
     "text": [
      "               Character               Name\n",
      "0  J. Robert Oppenheimer     Cillian Murphy\n",
      "1      Kitty Oppenheimer        Emily Blunt\n",
      "2          Leslie Groves         Matt Damon\n",
      "3          Lewis Strauss  Robert Downey Jr.\n",
      "4           Jean Tatlock      Florence Pugh\n"
     ]
    }
   ],
   "source": [
    "df = getCast(apikey, \"Oppenheimer\")\n",
    "print(df.head())"
   ]
  },
  {
   "cell_type": "code",
   "execution_count": null,
   "metadata": {},
   "outputs": [],
   "source": []
  }
 ],
 "metadata": {
  "celltoolbar": "Raw Cell Format",
  "kernelspec": {
   "display_name": "Python 3 (ipykernel)",
   "language": "python",
   "name": "python3"
  },
  "language_info": {
   "codemirror_mode": {
    "name": "ipython",
    "version": 3
   },
   "file_extension": ".py",
   "mimetype": "text/x-python",
   "name": "python",
   "nbconvert_exporter": "python",
   "pygments_lexer": "ipython3",
   "version": "3.10.9"
  }
 },
 "nbformat": 4,
 "nbformat_minor": 2
}
