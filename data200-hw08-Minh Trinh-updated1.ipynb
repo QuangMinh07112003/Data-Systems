{
 "cells": [
  {
   "cell_type": "markdown",
   "metadata": {},
   "source": [
    "# Data 200: Data Systems for Data Analytics (Spring 2024)"
   ]
  },
  {
   "cell_type": "markdown",
   "metadata": {},
   "source": [
    "# Homework 8: Single Table Operations with SQL part 2\n",
    "\n",
    "<font color='red'>**Due Date and Time:** 11:59pm on Tuesday, 3/19/2024 </font>\n",
    "---\n",
    "Enter your name in the markdown cell below."
   ]
  },
  {
   "cell_type": "markdown",
   "metadata": {},
   "source": [
    "# Name: Minh Trinh"
   ]
  },
  {
   "cell_type": "code",
   "execution_count": 1,
   "metadata": {},
   "outputs": [
    {
     "data": {
      "text/html": [
       "<style>\n",
       "blockquote { background: #AEDE94; }\n",
       "h1 { \n",
       "    padding-top: 25px;\n",
       "    padding-bottom: 25px;\n",
       "    text-align: left; \n",
       "    padding-left: 10px;\n",
       "    background-color: #DDDDDD; \n",
       "    color: black;\n",
       "}\n",
       "h2 { \n",
       "    padding-top: 10px;\n",
       "    padding-bottom: 10px;\n",
       "    text-align: left; \n",
       "    padding-left: 5px;\n",
       "    background-color: #EEEEEE; \n",
       "    color: black;\n",
       "}\n",
       "\n",
       "div.exercise {\n",
       "\tbackground-color: #ffcccc;\n",
       "\tborder-color: #E9967A; \t\n",
       "\tborder-left: 5px solid #800080; \n",
       "\tpadding: 0.5em;\n",
       "}\n",
       "\n",
       "div.exercise-r {\n",
       "\tbackground-color: #fce8e8;\n",
       "\tborder-color: #E9967A; \t\n",
       "\tborder-left: 5px solid #800080; \n",
       "\tpadding: 0.5em;\n",
       "}\n",
       "\n",
       "\n",
       "span.sub-q {\n",
       "\tfont-weight: bold;\n",
       "}\n",
       "div.theme {\n",
       "\tbackground-color: #DDDDDD;\n",
       "\tborder-color: #E9967A; \t\n",
       "\tborder-left: 5px solid #800080; \n",
       "\tpadding: 0.5em;\n",
       "\tfont-size: 18pt;\n",
       "}\n",
       "div.gc { \n",
       "\tbackground-color: #AEDE94;\n",
       "\tborder-color: #E9967A; \t \n",
       "\tborder-left: 5px solid #800080; \n",
       "\tpadding: 0.5em;\n",
       "\tfont-size: 12pt;\n",
       "}\n",
       "p.q1 { \n",
       "    padding-top: 5px;\n",
       "    padding-bottom: 5px;\n",
       "    text-align: left; \n",
       "    padding-left: 5px;\n",
       "    background-color: #EEEEEE; \n",
       "    color: black;\n",
       "}\n",
       "header {\n",
       "   padding-top: 35px;\n",
       "    padding-bottom: 35px;\n",
       "    text-align: left; \n",
       "    padding-left: 10px;\n",
       "    background-color: #DDDDDD; \n",
       "    color: black;\n",
       "}\n",
       "</style>\n",
       "\n"
      ],
      "text/plain": [
       "<IPython.core.display.HTML object>"
      ]
     },
     "execution_count": 1,
     "metadata": {},
     "output_type": "execute_result"
    }
   ],
   "source": [
    "## RUN THIS CELL TO GET THE RIGHT FORMATTING AND TO LOAD NumPy\n",
    "import requests\n",
    "import numpy as np\n",
    "from IPython.core.display import HTML\n",
    "styles = requests.get(\"https://raw.githubusercontent.com/Harvard-IACS/2018-CS109A/master/content/styles/cs109.css\").text\n",
    "HTML(styles)"
   ]
  },
  {
   "cell_type": "markdown",
   "metadata": {},
   "source": [
    "# Tasks\n",
    "\n",
    "- **Make sure you have installed SQL Magic before beginning**--see pages 177-179 in the Course Notes.\n",
    "- Review pages 203-215 in the Course Notes.\n",
    "- Complete the **Filtering Records**, **Aggregate Functions**, and **Sorting and Grouping** chapters of the **Intermediate SQL** course on DataCamp.\n",
    "- E-mail me your completed Jupyter notebook."
   ]
  },
  {
   "cell_type": "markdown",
   "metadata": {},
   "source": [
    "# Exercises"
   ]
  },
  {
   "cell_type": "markdown",
   "metadata": {},
   "source": [
    "This homework will make use of both the `book.db` and `school.db` databases, which are available under Files in Teams.  I suggest that you review pages 181-183 and 225-227 in the Course Notes to familiarize yourself with the tables in these databases.  You may also want to open the `school.db` database in SQLiteStudio to examine the tables as you work on the queries below.\n",
    "\n",
    "**Download the `book.db` and `school.db` databases from Teams and save them to the same directory as this notebook.**\n",
    "\n",
    "**Then, run the code cells below to load the SQL Magic module and connect to the `book.db` database.**"
   ]
  },
  {
   "cell_type": "code",
   "execution_count": 2,
   "metadata": {},
   "outputs": [],
   "source": [
    "%load_ext sql"
   ]
  },
  {
   "cell_type": "code",
   "execution_count": 3,
   "metadata": {},
   "outputs": [
    {
     "data": {
      "text/plain": [
       "'Connected: @book.db'"
      ]
     },
     "execution_count": 3,
     "metadata": {},
     "output_type": "execute_result"
    }
   ],
   "source": [
    "%sql sqlite:///book.db"
   ]
  },
  {
   "cell_type": "markdown",
   "metadata": {},
   "source": [
    "<div class=\"exercise\"><b>Exercise 1:</b></div> \n",
    "\n",
    "With regards to the `indicators` table, project the `year`, `code`, `gdp`, `imports`, and `exports` fields, and create a new (Boolean) column named `new` that that indicates whether `exports` are larger than `imports`.  Sort by `exports` in descending order and limit the results to 10 rows.\n",
    "\n",
    "The output from my solution is:<br>\n",
    "<code>\n",
    "year\tcode\tgdp\t   imports\t  exports\tnew\n",
    "2014\tCHN\t10438.5\t1963110.0\t2343220.0\t1\n",
    "2015\tCHN\t11015.5\t1601760.0\t2280540.0\t1\n",
    "2017\tCHN\t12143.5\t1832130.0\t2280090.0\t1\n",
    "2013\tCHN\t9570.41\t1949300.0\t2210660.0\t1\n",
    "2016\tCHN\t11138.0\t1589460.0\t2136590.0\t1\n",
    "2012\tCHN\t8532.23\t1817340.0\t2050090.0\t1\n",
    "2011\tCHN\t7551.5 \t1741430.0\t1899280.0\t1\n",
    "2014\tUSA\t17521.8\t2347680.0\t1620480.0\t0\n",
    "2010\tCHN\t6087.16\t1393910.0\t1578440.0\t1\n",
    "2013\tUSA\t16784.8\t2268370.0\t1578430.0\t0\n",
    "</code>"
   ]
  },
  {
   "cell_type": "code",
   "execution_count": 4,
   "metadata": {},
   "outputs": [
    {
     "name": "stdout",
     "output_type": "stream",
     "text": [
      " * sqlite:///book.db\n",
      "Done.\n"
     ]
    },
    {
     "data": {
      "text/html": [
       "<table>\n",
       "    <thead>\n",
       "        <tr>\n",
       "            <th>year</th>\n",
       "            <th>code</th>\n",
       "            <th>gdp</th>\n",
       "            <th>imports</th>\n",
       "            <th>exports</th>\n",
       "            <th>new</th>\n",
       "        </tr>\n",
       "    </thead>\n",
       "    <tbody>\n",
       "        <tr>\n",
       "            <td>2014</td>\n",
       "            <td>CHN</td>\n",
       "            <td>10438.5</td>\n",
       "            <td>1963110.0</td>\n",
       "            <td>2343220.0</td>\n",
       "            <td>1</td>\n",
       "        </tr>\n",
       "        <tr>\n",
       "            <td>2015</td>\n",
       "            <td>CHN</td>\n",
       "            <td>11015.5</td>\n",
       "            <td>1601760.0</td>\n",
       "            <td>2280540.0</td>\n",
       "            <td>1</td>\n",
       "        </tr>\n",
       "        <tr>\n",
       "            <td>2017</td>\n",
       "            <td>CHN</td>\n",
       "            <td>12143.5</td>\n",
       "            <td>1832130.0</td>\n",
       "            <td>2280090.0</td>\n",
       "            <td>1</td>\n",
       "        </tr>\n",
       "        <tr>\n",
       "            <td>2013</td>\n",
       "            <td>CHN</td>\n",
       "            <td>9570.41</td>\n",
       "            <td>1949300.0</td>\n",
       "            <td>2210660.0</td>\n",
       "            <td>1</td>\n",
       "        </tr>\n",
       "        <tr>\n",
       "            <td>2016</td>\n",
       "            <td>CHN</td>\n",
       "            <td>11138.0</td>\n",
       "            <td>1589460.0</td>\n",
       "            <td>2136590.0</td>\n",
       "            <td>1</td>\n",
       "        </tr>\n",
       "        <tr>\n",
       "            <td>2012</td>\n",
       "            <td>CHN</td>\n",
       "            <td>8532.23</td>\n",
       "            <td>1817340.0</td>\n",
       "            <td>2050090.0</td>\n",
       "            <td>1</td>\n",
       "        </tr>\n",
       "        <tr>\n",
       "            <td>2011</td>\n",
       "            <td>CHN</td>\n",
       "            <td>7551.5</td>\n",
       "            <td>1741430.0</td>\n",
       "            <td>1899280.0</td>\n",
       "            <td>1</td>\n",
       "        </tr>\n",
       "        <tr>\n",
       "            <td>2014</td>\n",
       "            <td>USA</td>\n",
       "            <td>17521.8</td>\n",
       "            <td>2347680.0</td>\n",
       "            <td>1620480.0</td>\n",
       "            <td>0</td>\n",
       "        </tr>\n",
       "        <tr>\n",
       "            <td>2010</td>\n",
       "            <td>CHN</td>\n",
       "            <td>6087.16</td>\n",
       "            <td>1393910.0</td>\n",
       "            <td>1578440.0</td>\n",
       "            <td>1</td>\n",
       "        </tr>\n",
       "        <tr>\n",
       "            <td>2013</td>\n",
       "            <td>USA</td>\n",
       "            <td>16784.8</td>\n",
       "            <td>2268370.0</td>\n",
       "            <td>1578430.0</td>\n",
       "            <td>0</td>\n",
       "        </tr>\n",
       "    </tbody>\n",
       "</table>"
      ],
      "text/plain": [
       "[(2014, 'CHN', 10438.5, 1963110.0, 2343220.0, 1),\n",
       " (2015, 'CHN', 11015.5, 1601760.0, 2280540.0, 1),\n",
       " (2017, 'CHN', 12143.5, 1832130.0, 2280090.0, 1),\n",
       " (2013, 'CHN', 9570.41, 1949300.0, 2210660.0, 1),\n",
       " (2016, 'CHN', 11138.0, 1589460.0, 2136590.0, 1),\n",
       " (2012, 'CHN', 8532.23, 1817340.0, 2050090.0, 1),\n",
       " (2011, 'CHN', 7551.5, 1741430.0, 1899280.0, 1),\n",
       " (2014, 'USA', 17521.8, 2347680.0, 1620480.0, 0),\n",
       " (2010, 'CHN', 6087.16, 1393910.0, 1578440.0, 1),\n",
       " (2013, 'USA', 16784.8, 2268370.0, 1578430.0, 0)]"
      ]
     },
     "execution_count": 4,
     "metadata": {},
     "output_type": "execute_result"
    }
   ],
   "source": [
    "%%sql\n",
    "/* Enter your SQL query below */\n",
    "SELECT year, code, gdp, imports, exports,\n",
    "CASE WHEN exports > imports THEN TRUE ELSE FALSE END AS new\n",
    "FROM indicators\n",
    "ORDER BY exports DESC\n",
    "LIMIT 10;\n"
   ]
  },
  {
   "cell_type": "markdown",
   "metadata": {},
   "source": [
    "<div class=\"exercise\"><b>Exercise 2:</b></div> \n",
    "\n",
    "With regards to the `topnames` table, select all rows where the top name is John.  Project all columns and sort by year in descending order. Limit the results to five rows.\n",
    "\n",
    "The output from my solution is:<br>\n",
    "<code>\n",
    "year\tsex\t name\tcount\n",
    "1923\tMale\tJohn\t57470\n",
    "1922\tMale\tJohn\t57277\n",
    "1921\tMale\tJohn\t58217\n",
    "1920\tMale\tJohn\t56913\n",
    "1919\tMale\tJohn\t53528\n",
    "</code>"
   ]
  },
  {
   "cell_type": "code",
   "execution_count": 5,
   "metadata": {},
   "outputs": [
    {
     "name": "stdout",
     "output_type": "stream",
     "text": [
      " * sqlite:///book.db\n",
      "Done.\n"
     ]
    },
    {
     "data": {
      "text/html": [
       "<table>\n",
       "    <thead>\n",
       "        <tr>\n",
       "            <th>year</th>\n",
       "            <th>sex</th>\n",
       "            <th>name</th>\n",
       "            <th>count</th>\n",
       "        </tr>\n",
       "    </thead>\n",
       "    <tbody>\n",
       "        <tr>\n",
       "            <td>1923</td>\n",
       "            <td>Male</td>\n",
       "            <td>John</td>\n",
       "            <td>57470</td>\n",
       "        </tr>\n",
       "        <tr>\n",
       "            <td>1922</td>\n",
       "            <td>Male</td>\n",
       "            <td>John</td>\n",
       "            <td>57277</td>\n",
       "        </tr>\n",
       "        <tr>\n",
       "            <td>1921</td>\n",
       "            <td>Male</td>\n",
       "            <td>John</td>\n",
       "            <td>58217</td>\n",
       "        </tr>\n",
       "        <tr>\n",
       "            <td>1920</td>\n",
       "            <td>Male</td>\n",
       "            <td>John</td>\n",
       "            <td>56913</td>\n",
       "        </tr>\n",
       "        <tr>\n",
       "            <td>1919</td>\n",
       "            <td>Male</td>\n",
       "            <td>John</td>\n",
       "            <td>53528</td>\n",
       "        </tr>\n",
       "    </tbody>\n",
       "</table>"
      ],
      "text/plain": [
       "[(1923, 'Male', 'John', 57470),\n",
       " (1922, 'Male', 'John', 57277),\n",
       " (1921, 'Male', 'John', 58217),\n",
       " (1920, 'Male', 'John', 56913),\n",
       " (1919, 'Male', 'John', 53528)]"
      ]
     },
     "execution_count": 5,
     "metadata": {},
     "output_type": "execute_result"
    }
   ],
   "source": [
    "%%sql\n",
    "/* Enter your SQL query below */\n",
    "SELECT year, sex, name, count\n",
    "FROM topnames\n",
    "WHERE name = 'John'\n",
    "ORDER BY year DESC\n",
    "LIMIT 5;\n"
   ]
  },
  {
   "cell_type": "markdown",
   "metadata": {},
   "source": [
    "<div class=\"exercise\"><b>Exercise 3:</b></div> \n",
    "\n",
    "With regards to the `topnames` table, select all rows corresponding to males who's name is not John, Noah, nor Michael.  Project all columns and sort by year in descending order. Limit the results to five rows.\n",
    "\n",
    "The output from my solution is:<br>\n",
    "<code>\n",
    "year\tsex\t name\t count\n",
    "2018\tMale\tLiam\t 19837\n",
    "2017\tMale\tLiam\t 18798\n",
    "2012\tMale\tJacob\t19074\n",
    "2011\tMale\tJacob\t20371\n",
    "2010\tMale\tJacob\t22127\n",
    "</code>"
   ]
  },
  {
   "cell_type": "code",
   "execution_count": 6,
   "metadata": {},
   "outputs": [
    {
     "name": "stdout",
     "output_type": "stream",
     "text": [
      " * sqlite:///book.db\n",
      "Done.\n"
     ]
    },
    {
     "data": {
      "text/html": [
       "<table>\n",
       "    <thead>\n",
       "        <tr>\n",
       "            <th>year</th>\n",
       "            <th>sex</th>\n",
       "            <th>name</th>\n",
       "            <th>count</th>\n",
       "        </tr>\n",
       "    </thead>\n",
       "    <tbody>\n",
       "        <tr>\n",
       "            <td>2018</td>\n",
       "            <td>Male</td>\n",
       "            <td>Liam</td>\n",
       "            <td>19837</td>\n",
       "        </tr>\n",
       "        <tr>\n",
       "            <td>2017</td>\n",
       "            <td>Male</td>\n",
       "            <td>Liam</td>\n",
       "            <td>18798</td>\n",
       "        </tr>\n",
       "        <tr>\n",
       "            <td>2012</td>\n",
       "            <td>Male</td>\n",
       "            <td>Jacob</td>\n",
       "            <td>19074</td>\n",
       "        </tr>\n",
       "        <tr>\n",
       "            <td>2011</td>\n",
       "            <td>Male</td>\n",
       "            <td>Jacob</td>\n",
       "            <td>20371</td>\n",
       "        </tr>\n",
       "        <tr>\n",
       "            <td>2010</td>\n",
       "            <td>Male</td>\n",
       "            <td>Jacob</td>\n",
       "            <td>22127</td>\n",
       "        </tr>\n",
       "    </tbody>\n",
       "</table>"
      ],
      "text/plain": [
       "[(2018, 'Male', 'Liam', 19837),\n",
       " (2017, 'Male', 'Liam', 18798),\n",
       " (2012, 'Male', 'Jacob', 19074),\n",
       " (2011, 'Male', 'Jacob', 20371),\n",
       " (2010, 'Male', 'Jacob', 22127)]"
      ]
     },
     "execution_count": 6,
     "metadata": {},
     "output_type": "execute_result"
    }
   ],
   "source": [
    "%%sql\n",
    "/* Enter your SQL query below */\n",
    "SELECT year, sex, name, count\n",
    "FROM topnames\n",
    "WHERE (name <> 'John' AND name <> 'Noah' AND name <> 'Michael') AND sex = 'Male'\n",
    "ORDER BY year DESC\n",
    "LIMIT 5;\n"
   ]
  },
  {
   "cell_type": "markdown",
   "metadata": {},
   "source": [
    "<div class=\"exercise\"><b>Exercise 4:</b></div> \n",
    "\n",
    "With regards to the `indicators` table, select all rows for which the GDP is missing and the population is greater than 140 million.  Project `year`, `code`, `gdp`, and `pop` for such rows and sort by year in ascending order.  No need to limit results.\n",
    "\n",
    "\n",
    "The output from my solution is:<br>\n",
    "<code>\n",
    "year\tcode   gdp     pop\n",
    "1982\tRUS\tNone\t140.82\n",
    "1983\tRUS\tNone\t141.67\n",
    "1984\tRUS\tNone\t142.74\n",
    "1985\tRUS\tNone\t143.86\n",
    "1986\tRUS\tNone\t144.89\n",
    "1987\tRUS\tNone\t145.91\n",
    "</code>"
   ]
  },
  {
   "cell_type": "code",
   "execution_count": 7,
   "metadata": {},
   "outputs": [
    {
     "name": "stdout",
     "output_type": "stream",
     "text": [
      " * sqlite:///book.db\n",
      "Done.\n"
     ]
    },
    {
     "data": {
      "text/html": [
       "<table>\n",
       "    <thead>\n",
       "        <tr>\n",
       "            <th>year</th>\n",
       "            <th>code</th>\n",
       "            <th>gdp</th>\n",
       "            <th>pop</th>\n",
       "        </tr>\n",
       "    </thead>\n",
       "    <tbody>\n",
       "        <tr>\n",
       "            <td>1982</td>\n",
       "            <td>RUS</td>\n",
       "            <td>None</td>\n",
       "            <td>140.82</td>\n",
       "        </tr>\n",
       "        <tr>\n",
       "            <td>1983</td>\n",
       "            <td>RUS</td>\n",
       "            <td>None</td>\n",
       "            <td>141.67</td>\n",
       "        </tr>\n",
       "        <tr>\n",
       "            <td>1984</td>\n",
       "            <td>RUS</td>\n",
       "            <td>None</td>\n",
       "            <td>142.74</td>\n",
       "        </tr>\n",
       "        <tr>\n",
       "            <td>1985</td>\n",
       "            <td>RUS</td>\n",
       "            <td>None</td>\n",
       "            <td>143.86</td>\n",
       "        </tr>\n",
       "        <tr>\n",
       "            <td>1986</td>\n",
       "            <td>RUS</td>\n",
       "            <td>None</td>\n",
       "            <td>144.89</td>\n",
       "        </tr>\n",
       "        <tr>\n",
       "            <td>1987</td>\n",
       "            <td>RUS</td>\n",
       "            <td>None</td>\n",
       "            <td>145.91</td>\n",
       "        </tr>\n",
       "    </tbody>\n",
       "</table>"
      ],
      "text/plain": [
       "[(1982, 'RUS', None, 140.82),\n",
       " (1983, 'RUS', None, 141.67),\n",
       " (1984, 'RUS', None, 142.74),\n",
       " (1985, 'RUS', None, 143.86),\n",
       " (1986, 'RUS', None, 144.89),\n",
       " (1987, 'RUS', None, 145.91)]"
      ]
     },
     "execution_count": 7,
     "metadata": {},
     "output_type": "execute_result"
    }
   ],
   "source": [
    "%%sql\n",
    "/* Enter your SQL query below */\n",
    "SELECT year, code, gdp, pop\n",
    "FROM indicators\n",
    "WHERE (gdp IS NULL) AND (pop > 140)\n",
    "ORDER BY year ASC;\n"
   ]
  },
  {
   "cell_type": "markdown",
   "metadata": {},
   "source": [
    "<div class=\"exercise\"><b>Exercise 5:</b></div> \n",
    "\n",
    "With regards to the `countries` table, select all the rows where the country is classified as `'High income'`.  Project the `code` and `country` fields, plus create a new column called `landmiles` that is the land area in square miles (note that the area in square miles is equal to the square kilometers multiplied by 0.386102).  Sort by `landmiles` in descending order and limit the results to five rows.\n",
    "\n",
    "The output from my solution is:<br>\n",
    "<code>\n",
    "code   country\t    landmiles\n",
    "USA\tUnited States  3531837.15684\n",
    "CAN\tCanada\t     3511022.39802\n",
    "AUS\tAustralia\t  2969904.30604\n",
    "SAU\tSaudi Arabia   829999.60838\n",
    "CHL\tChile\t      287079.192264\n",
    "</code>"
   ]
  },
  {
   "cell_type": "code",
   "execution_count": 8,
   "metadata": {},
   "outputs": [
    {
     "name": "stdout",
     "output_type": "stream",
     "text": [
      " * sqlite:///book.db\n",
      "Done.\n"
     ]
    },
    {
     "data": {
      "text/html": [
       "<table>\n",
       "    <thead>\n",
       "        <tr>\n",
       "            <th>code</th>\n",
       "            <th>country</th>\n",
       "            <th>landmiles</th>\n",
       "        </tr>\n",
       "    </thead>\n",
       "    <tbody>\n",
       "        <tr>\n",
       "            <td>USA</td>\n",
       "            <td>United States</td>\n",
       "            <td>3531837.15684</td>\n",
       "        </tr>\n",
       "        <tr>\n",
       "            <td>CAN</td>\n",
       "            <td>Canada</td>\n",
       "            <td>3511022.39802</td>\n",
       "        </tr>\n",
       "        <tr>\n",
       "            <td>AUS</td>\n",
       "            <td>Australia</td>\n",
       "            <td>2969904.30604</td>\n",
       "        </tr>\n",
       "        <tr>\n",
       "            <td>SAU</td>\n",
       "            <td>Saudi Arabia</td>\n",
       "            <td>829999.60838</td>\n",
       "        </tr>\n",
       "        <tr>\n",
       "            <td>CHL</td>\n",
       "            <td>Chile</td>\n",
       "            <td>287079.192264</td>\n",
       "        </tr>\n",
       "    </tbody>\n",
       "</table>"
      ],
      "text/plain": [
       "[('USA', 'United States', 3531837.15684),\n",
       " ('CAN', 'Canada', 3511022.39802),\n",
       " ('AUS', 'Australia', 2969904.30604),\n",
       " ('SAU', 'Saudi Arabia', 829999.60838),\n",
       " ('CHL', 'Chile', 287079.192264)]"
      ]
     },
     "execution_count": 8,
     "metadata": {},
     "output_type": "execute_result"
    }
   ],
   "source": [
    "%%sql\n",
    "/* Enter your SQL query below */\n",
    "SELECT code, country, land * 0.386102 AS landmiles\n",
    "FROM countries\n",
    "WHERE income = 'High income'\n",
    "ORDER BY landmiles DESC\n",
    "LIMIT 5;"
   ]
  },
  {
   "cell_type": "markdown",
   "metadata": {},
   "source": [
    "**Run the code cell below to connect to the `school.db` database.**"
   ]
  },
  {
   "cell_type": "code",
   "execution_count": 9,
   "metadata": {},
   "outputs": [
    {
     "data": {
      "text/plain": [
       "'Connected: @school.db'"
      ]
     },
     "execution_count": 9,
     "metadata": {},
     "output_type": "execute_result"
    }
   ],
   "source": [
    "%sql sqlite:///school.db"
   ]
  },
  {
   "cell_type": "markdown",
   "metadata": {},
   "source": [
    "<div class=\"exercise\"><b>Exercise 6:</b></div> \n",
    "\n",
    "In reference to the `instructors` table, select a new column `full_name` obtained as the last name, followed by a comma and a space, followed by the first name.  Order alphabetically and limit the results to five rows.\n",
    "\n",
    "The output from my solution is:<br>\n",
    "<code>\n",
    "full_name\n",
    "Aguilar, Stephen\n",
    "Anderson, Philip\n",
    "Arnaud, Antoine\n",
    "Austin, Stephanie\n",
    "Bailey, Jayden\n",
    "</code>"
   ]
  },
  {
   "cell_type": "code",
   "execution_count": 10,
   "metadata": {},
   "outputs": [
    {
     "name": "stdout",
     "output_type": "stream",
     "text": [
      "   sqlite:///book.db\n",
      " * sqlite:///school.db\n",
      "Done.\n"
     ]
    },
    {
     "data": {
      "text/html": [
       "<table>\n",
       "    <thead>\n",
       "        <tr>\n",
       "            <th>full_name</th>\n",
       "        </tr>\n",
       "    </thead>\n",
       "    <tbody>\n",
       "        <tr>\n",
       "            <td>Aguilar,  Stephen</td>\n",
       "        </tr>\n",
       "        <tr>\n",
       "            <td>Anderson,  Philip</td>\n",
       "        </tr>\n",
       "        <tr>\n",
       "            <td>Arnaud,  Antoine</td>\n",
       "        </tr>\n",
       "        <tr>\n",
       "            <td>Austin,  Stephanie</td>\n",
       "        </tr>\n",
       "        <tr>\n",
       "            <td>Bailey,  Jayden</td>\n",
       "        </tr>\n",
       "    </tbody>\n",
       "</table>"
      ],
      "text/plain": [
       "[('Aguilar,  Stephen',),\n",
       " ('Anderson,  Philip',),\n",
       " ('Arnaud,  Antoine',),\n",
       " ('Austin,  Stephanie',),\n",
       " ('Bailey,  Jayden',)]"
      ]
     },
     "execution_count": 10,
     "metadata": {},
     "output_type": "execute_result"
    }
   ],
   "source": [
    "%%sql\n",
    "/* Enter your SQL query below */\n",
    "SELECT instructorlast || ', '||''|| ' '|| instructorfirst||'' AS full_name\n",
    "FROM instructors\n",
    "ORDER BY full_name ASC\n",
    "LIMIT 5;\n",
    "\n",
    "\n",
    "\n",
    "\n"
   ]
  },
  {
   "cell_type": "markdown",
   "metadata": {},
   "source": [
    "<div class=\"exercise\"><b>Exercise 7:</b></div> \n",
    "\n",
    "In reference to the `courses` table, create a new column `catalog` obtained as the course subject, followed by a space, followed by the course number, followed by a colon and a space, followed by the course title. Only include `'MATH'` courses.  Order by course number in descending order and limit the results to five rows.\n",
    "\n",
    "The output from my solution is:<br>\n",
    "<code>\n",
    "catalog\n",
    "MATH 452: Senior Research\n",
    "MATH 451: Senior Research\n",
    "MATH 364: Independent Study\n",
    "MATH 363: Independent Study\n",
    "MATH 362: Directed Study\n",
    "</code>"
   ]
  },
  {
   "cell_type": "code",
   "execution_count": 11,
   "metadata": {},
   "outputs": [
    {
     "name": "stdout",
     "output_type": "stream",
     "text": [
      "   sqlite:///book.db\n",
      " * sqlite:///school.db\n",
      "Done.\n"
     ]
    },
    {
     "data": {
      "text/html": [
       "<table>\n",
       "    <thead>\n",
       "        <tr>\n",
       "            <th>catalog</th>\n",
       "        </tr>\n",
       "    </thead>\n",
       "    <tbody>\n",
       "        <tr>\n",
       "            <td>MATH 452: Senior Research</td>\n",
       "        </tr>\n",
       "        <tr>\n",
       "            <td>MATH 451: Senior Research</td>\n",
       "        </tr>\n",
       "        <tr>\n",
       "            <td>MATH 364: Independent Study</td>\n",
       "        </tr>\n",
       "        <tr>\n",
       "            <td>MATH 363: Independent Study</td>\n",
       "        </tr>\n",
       "        <tr>\n",
       "            <td>MATH 362: Directed Study</td>\n",
       "        </tr>\n",
       "    </tbody>\n",
       "</table>"
      ],
      "text/plain": [
       "[('MATH 452: Senior Research',),\n",
       " ('MATH 451: Senior Research',),\n",
       " ('MATH 364: Independent Study',),\n",
       " ('MATH 363: Independent Study',),\n",
       " ('MATH 362: Directed Study',)]"
      ]
     },
     "execution_count": 11,
     "metadata": {},
     "output_type": "execute_result"
    }
   ],
   "source": [
    "%%sql\n",
    "/* Enter your SQL query below */\n",
    "SELECT coursesubject || ' ' || coursenum||\": \" || coursetitle AS catalog\n",
    "FROM courses\n",
    "WHERE coursesubject = 'MATH'\n",
    "ORDER BY coursenum DESC\n",
    "LIMIT 5;\n"
   ]
  },
  {
   "cell_type": "markdown",
   "metadata": {},
   "source": [
    "**Run the code cell below to connect to the `book.db` database.**"
   ]
  },
  {
   "cell_type": "code",
   "execution_count": 12,
   "metadata": {},
   "outputs": [
    {
     "data": {
      "text/plain": [
       "'Connected: @book.db'"
      ]
     },
     "execution_count": 12,
     "metadata": {},
     "output_type": "execute_result"
    }
   ],
   "source": [
    "%sql sqlite:///book.db"
   ]
  },
  {
   "cell_type": "markdown",
   "metadata": {},
   "source": [
    "<div class=\"exercise\"><b>Exercise 8:</b></div> \n",
    "\n",
    "Write an SQL query to determine the number of distinct female names in the `topnames` table.\n",
    "\n",
    "Below is the output from my solution (can you mimic it?):<br>\n",
    "<code>\n",
    "num_female_names\n",
    "              10\n",
    "</code>"
   ]
  },
  {
   "cell_type": "code",
   "execution_count": 13,
   "metadata": {},
   "outputs": [
    {
     "name": "stdout",
     "output_type": "stream",
     "text": [
      " * sqlite:///book.db\n",
      "   sqlite:///school.db\n",
      "Done.\n"
     ]
    },
    {
     "data": {
      "text/html": [
       "<table>\n",
       "    <thead>\n",
       "        <tr>\n",
       "            <th>num_female_names</th>\n",
       "        </tr>\n",
       "    </thead>\n",
       "    <tbody>\n",
       "        <tr>\n",
       "            <td>10</td>\n",
       "        </tr>\n",
       "    </tbody>\n",
       "</table>"
      ],
      "text/plain": [
       "[(10,)]"
      ]
     },
     "execution_count": 13,
     "metadata": {},
     "output_type": "execute_result"
    }
   ],
   "source": [
    "%%sql\n",
    "/* Enter your SQL query below */\n",
    "SELECT COUNT(DISTINCT name) AS num_female_names\n",
    "FROM topnames\n",
    "WHERE sex = 'Female';\n",
    "\n",
    "\n"
   ]
  },
  {
   "cell_type": "markdown",
   "metadata": {},
   "source": [
    "<div class=\"exercise\"><b>Exercise 9:</b></div> \n",
    "\n",
    "From the `indicators` table, find the average life expectancy, the minimum year, and the maximum number of cell phone subscribers.\n",
    "\n",
    "Below is the output from my solution (can you mimic it?):<br>\n",
    "<code>\n",
    "avg_life\t     min_year   max_cell\n",
    "64.00322182010733\t1960\t1469.88\n",
    "</code>"
   ]
  },
  {
   "cell_type": "code",
   "execution_count": 14,
   "metadata": {},
   "outputs": [
    {
     "name": "stdout",
     "output_type": "stream",
     "text": [
      " * sqlite:///book.db\n",
      "   sqlite:///school.db\n",
      "Done.\n"
     ]
    },
    {
     "data": {
      "text/html": [
       "<table>\n",
       "    <thead>\n",
       "        <tr>\n",
       "            <th>avg_life</th>\n",
       "            <th>min_year</th>\n",
       "            <th>max_cell</th>\n",
       "        </tr>\n",
       "    </thead>\n",
       "    <tbody>\n",
       "        <tr>\n",
       "            <td>64.00322182010733</td>\n",
       "            <td>1960</td>\n",
       "            <td>1469.88</td>\n",
       "        </tr>\n",
       "    </tbody>\n",
       "</table>"
      ],
      "text/plain": [
       "[(64.00322182010733, 1960, 1469.88)]"
      ]
     },
     "execution_count": 14,
     "metadata": {},
     "output_type": "execute_result"
    }
   ],
   "source": [
    "%%sql\n",
    "/* Enter your SQL query below */\n",
    "SELECT AVG(life) AS avg_life, MIN(year) AS min_year, MAX(cell) AS max_cell\n",
    "FROM indicators;\n",
    "\n",
    "\n",
    "\n"
   ]
  },
  {
   "cell_type": "markdown",
   "metadata": {},
   "source": [
    "<div class=\"exercise\"><b>Exercise 10:</b></div> \n",
    "\n",
    "With regards to the `indicators` table, use a select query to answer the question: which country and year had the highest cell phone number? **Hint:** use a subquery and MAX to find the overall highest cell phone number, then find which row has that number.\n",
    "\n",
    "Below is the output from my solution:<br>\n",
    "<code>\n",
    "code\tyear\n",
    "CHN\t2017\n",
    "</code>"
   ]
  },
  {
   "cell_type": "code",
   "execution_count": 15,
   "metadata": {},
   "outputs": [
    {
     "name": "stdout",
     "output_type": "stream",
     "text": [
      " * sqlite:///book.db\n",
      "   sqlite:///school.db\n",
      "Done.\n"
     ]
    },
    {
     "data": {
      "text/html": [
       "<table>\n",
       "    <thead>\n",
       "        <tr>\n",
       "            <th>code</th>\n",
       "            <th>year</th>\n",
       "        </tr>\n",
       "    </thead>\n",
       "    <tbody>\n",
       "        <tr>\n",
       "            <td>CHN</td>\n",
       "            <td>2017</td>\n",
       "        </tr>\n",
       "    </tbody>\n",
       "</table>"
      ],
      "text/plain": [
       "[('CHN', 2017)]"
      ]
     },
     "execution_count": 15,
     "metadata": {},
     "output_type": "execute_result"
    }
   ],
   "source": [
    "%%sql\n",
    "/* Enter your SQL query below */\n",
    "SELECT code, year\n",
    "FROM indicators\n",
    "WHERE cell = (SELECT MAX(cell) FROM indicators);\n"
   ]
  },
  {
   "cell_type": "markdown",
   "metadata": {},
   "source": [
    "<div class=\"exercise\"><b>Exercise 11:</b></div> \n",
    "\n",
    "From the `countries` table, use a query to answer the question: how many countries are there in each region? Alias your new column as `num_countries`.  **Hint:** You will need to use a GROUP BY.\n",
    "\n",
    "Below is the output from my solution:<br>\n",
    "<code>\n",
    "region\t                num_countries\n",
    "East Asia & Pacific\t              37\n",
    "Europe & Central Asia\t            58\n",
    "Latin America & Caribbean\t        42\n",
    "Middle East & North Africa\t       21\n",
    "North America\t                     3\n",
    "South Asia\t                        8\n",
    "Sub-Saharan Africa\t               48\n",
    "</code>"
   ]
  },
  {
   "cell_type": "code",
   "execution_count": 16,
   "metadata": {},
   "outputs": [
    {
     "name": "stdout",
     "output_type": "stream",
     "text": [
      " * sqlite:///book.db\n",
      "   sqlite:///school.db\n",
      "Done.\n"
     ]
    },
    {
     "data": {
      "text/html": [
       "<table>\n",
       "    <thead>\n",
       "        <tr>\n",
       "            <th>region</th>\n",
       "            <th>num_countries</th>\n",
       "        </tr>\n",
       "    </thead>\n",
       "    <tbody>\n",
       "        <tr>\n",
       "            <td>East Asia &amp; Pacific</td>\n",
       "            <td>37</td>\n",
       "        </tr>\n",
       "        <tr>\n",
       "            <td>Europe &amp; Central Asia</td>\n",
       "            <td>58</td>\n",
       "        </tr>\n",
       "        <tr>\n",
       "            <td>Latin America &amp; Caribbean</td>\n",
       "            <td>42</td>\n",
       "        </tr>\n",
       "        <tr>\n",
       "            <td>Middle East &amp; North Africa</td>\n",
       "            <td>21</td>\n",
       "        </tr>\n",
       "        <tr>\n",
       "            <td>North America</td>\n",
       "            <td>3</td>\n",
       "        </tr>\n",
       "        <tr>\n",
       "            <td>South Asia</td>\n",
       "            <td>8</td>\n",
       "        </tr>\n",
       "        <tr>\n",
       "            <td>Sub-Saharan Africa</td>\n",
       "            <td>48</td>\n",
       "        </tr>\n",
       "    </tbody>\n",
       "</table>"
      ],
      "text/plain": [
       "[('East Asia & Pacific', 37),\n",
       " ('Europe & Central Asia', 58),\n",
       " ('Latin America & Caribbean', 42),\n",
       " ('Middle East & North Africa', 21),\n",
       " ('North America', 3),\n",
       " ('South Asia', 8),\n",
       " ('Sub-Saharan Africa', 48)]"
      ]
     },
     "execution_count": 16,
     "metadata": {},
     "output_type": "execute_result"
    }
   ],
   "source": [
    "%%sql\n",
    "/* Enter your SQL query below */\n",
    "SELECT region, COUNT(region) AS num_countries\n",
    "FROM countries \n",
    "GROUP BY region;\n"
   ]
  },
  {
   "cell_type": "markdown",
   "metadata": {},
   "source": [
    "<div class=\"exercise\"><b>Exercise 12:</b></div> \n",
    "\n",
    "Use the `indicators` table to find the total world population in each year (as the sum of country populations). Use the alias `total_pop` for your new column.  Limit your results to five rows.\n",
    "\n",
    "Below is the output from my solution:<br>\n",
    "<code>\n",
    "year\ttotal_pop\n",
    "1960\t3014.6900000000014\n",
    "1961\t3055.3700000000003\n",
    "1962\t3107.859999999999\n",
    "1963\t3172.6700000000014\n",
    "1964\t3237.700000000004\n",
    "</code>"
   ]
  },
  {
   "cell_type": "code",
   "execution_count": 17,
   "metadata": {},
   "outputs": [
    {
     "name": "stdout",
     "output_type": "stream",
     "text": [
      " * sqlite:///book.db\n",
      "   sqlite:///school.db\n",
      "Done.\n"
     ]
    },
    {
     "data": {
      "text/html": [
       "<table>\n",
       "    <thead>\n",
       "        <tr>\n",
       "            <th>year</th>\n",
       "            <th>total_pop</th>\n",
       "        </tr>\n",
       "    </thead>\n",
       "    <tbody>\n",
       "        <tr>\n",
       "            <td>1960</td>\n",
       "            <td>3014.6900000000014</td>\n",
       "        </tr>\n",
       "        <tr>\n",
       "            <td>1961</td>\n",
       "            <td>3055.3700000000003</td>\n",
       "        </tr>\n",
       "        <tr>\n",
       "            <td>1962</td>\n",
       "            <td>3107.859999999999</td>\n",
       "        </tr>\n",
       "        <tr>\n",
       "            <td>1963</td>\n",
       "            <td>3172.6700000000014</td>\n",
       "        </tr>\n",
       "        <tr>\n",
       "            <td>1964</td>\n",
       "            <td>3237.700000000004</td>\n",
       "        </tr>\n",
       "    </tbody>\n",
       "</table>"
      ],
      "text/plain": [
       "[(1960, 3014.6900000000014),\n",
       " (1961, 3055.3700000000003),\n",
       " (1962, 3107.859999999999),\n",
       " (1963, 3172.6700000000014),\n",
       " (1964, 3237.700000000004)]"
      ]
     },
     "execution_count": 17,
     "metadata": {},
     "output_type": "execute_result"
    }
   ],
   "source": [
    "%%sql\n",
    "/* Enter your SQL query below */\n",
    "SELECT year, SUM(pop) AS total_pop\n",
    "FROM indicators\n",
    "GROUP BY year\n",
    "LIMIT 5;\n"
   ]
  },
  {
   "cell_type": "markdown",
   "metadata": {},
   "source": [
    "<div class=\"exercise\"><b>Exercise 13:</b></div> \n",
    "\n",
    "**Treating your query from Exercise 12 as a subquery**, find the maximum for `total_pop` over *all* years. Use the alias `max_pop` for the new column.\n",
    "\n",
    "Below is the output from my solution:<br>\n",
    "<code>\n",
    "max_pop\n",
    "7567.310000000001\n",
    "</code>"
   ]
  },
  {
   "cell_type": "code",
   "execution_count": 18,
   "metadata": {},
   "outputs": [
    {
     "name": "stdout",
     "output_type": "stream",
     "text": [
      " * sqlite:///book.db\n",
      "   sqlite:///school.db\n",
      "Done.\n"
     ]
    },
    {
     "data": {
      "text/html": [
       "<table>\n",
       "    <thead>\n",
       "        <tr>\n",
       "            <th>max_pop</th>\n",
       "        </tr>\n",
       "    </thead>\n",
       "    <tbody>\n",
       "        <tr>\n",
       "            <td>7567.310000000001</td>\n",
       "        </tr>\n",
       "    </tbody>\n",
       "</table>"
      ],
      "text/plain": [
       "[(7567.310000000001,)]"
      ]
     },
     "execution_count": 18,
     "metadata": {},
     "output_type": "execute_result"
    }
   ],
   "source": [
    "%%sql\n",
    "/* Enter your SQL query below */\n",
    "SELECT MAX(total_pop) AS max_pop\n",
    "FROM (\n",
    "    SELECT year, SUM(pop) AS total_pop\n",
    "    FROM indicators\n",
    "    GROUP BY year);\n"
   ]
  },
  {
   "cell_type": "markdown",
   "metadata": {},
   "source": [
    "**Run the code cell below to connect to the `school.db` database.**"
   ]
  },
  {
   "cell_type": "code",
   "execution_count": 19,
   "metadata": {},
   "outputs": [
    {
     "data": {
      "text/plain": [
       "'Connected: @school.db'"
      ]
     },
     "execution_count": 19,
     "metadata": {},
     "output_type": "execute_result"
    }
   ],
   "source": [
    "%sql sqlite:///school.db"
   ]
  },
  {
   "cell_type": "markdown",
   "metadata": {},
   "source": [
    "<div class=\"exercise\"><b>Exercise 14:</b></div> \n",
    "\n",
    "In reference to the `school` database, write a query to obtain the number of sections for each class in the fall semester.  However, only include classes having at least 8 sections.  Project the course subject, course number, and a new column called `num_sections`.  **Hint:** You will need to use `GROUP BY classterm, coursesubject, coursenum` to uniquely identify the courses.  Order the results by the number of sections, course number, and course subject using:\n",
    "\n",
    "`ORDER BY num_sections DESC, classterm, coursesubject, coursenum`\n",
    "\n",
    "Below is the output from my solution:<br>\n",
    "<code>\n",
    "coursesubject\tcoursenum\tnum_sections\n",
    "FYS\t                101\t          21\n",
    "FYS\t                102\t          20\n",
    "BIOL\t               451\t          12         \n",
    "PHED\t               350\t          11\n",
    "HIST\t               451\t           8\n",
    "</code>\t  "
   ]
  },
  {
   "cell_type": "code",
   "execution_count": 20,
   "metadata": {},
   "outputs": [
    {
     "name": "stdout",
     "output_type": "stream",
     "text": [
      "   sqlite:///book.db\n",
      " * sqlite:///school.db\n",
      "Done.\n"
     ]
    },
    {
     "data": {
      "text/html": [
       "<table>\n",
       "    <thead>\n",
       "        <tr>\n",
       "            <th>coursesubject</th>\n",
       "            <th>coursenum</th>\n",
       "            <th>num_sections</th>\n",
       "        </tr>\n",
       "    </thead>\n",
       "    <tbody>\n",
       "        <tr>\n",
       "            <td>FYS</td>\n",
       "            <td>101</td>\n",
       "            <td>21</td>\n",
       "        </tr>\n",
       "        <tr>\n",
       "            <td>FYS</td>\n",
       "            <td>102</td>\n",
       "            <td>20</td>\n",
       "        </tr>\n",
       "        <tr>\n",
       "            <td>BIOL</td>\n",
       "            <td>451</td>\n",
       "            <td>12</td>\n",
       "        </tr>\n",
       "        <tr>\n",
       "            <td>PHED</td>\n",
       "            <td>350</td>\n",
       "            <td>11</td>\n",
       "        </tr>\n",
       "        <tr>\n",
       "            <td>HIST</td>\n",
       "            <td>451</td>\n",
       "            <td>8</td>\n",
       "        </tr>\n",
       "    </tbody>\n",
       "</table>"
      ],
      "text/plain": [
       "[('FYS', 101, 21),\n",
       " ('FYS', 102, 20),\n",
       " ('BIOL', 451, 12),\n",
       " ('PHED', 350, 11),\n",
       " ('HIST', 451, 8)]"
      ]
     },
     "execution_count": 20,
     "metadata": {},
     "output_type": "execute_result"
    }
   ],
   "source": [
    "%%sql\n",
    "/* Enter your SQL query below */\n",
    "\n",
    "SELECT coursesubject, coursenum, num_sections\n",
    "FROM(SELECT coursesubject, coursenum, COUNT(classsection) as num_sections\n",
    "    FROM classes\n",
    "    WHERE classterm = 'FALL'\n",
    "    GROUP BY classterm, coursesubject, coursenum\n",
    "    ORDER BY num_sections DESC, classterm, coursesubject, coursenum)\n",
    "WHERE num_sections >= 8\n"
   ]
  },
  {
   "cell_type": "code",
   "execution_count": null,
   "metadata": {},
   "outputs": [],
   "source": []
  },
  {
   "cell_type": "code",
   "execution_count": null,
   "metadata": {},
   "outputs": [],
   "source": []
  }
 ],
 "metadata": {
  "celltoolbar": "Raw Cell Format",
  "kernelspec": {
   "display_name": "Python 3 (ipykernel)",
   "language": "python",
   "name": "python3"
  },
  "language_info": {
   "codemirror_mode": {
    "name": "ipython",
    "version": 3
   },
   "file_extension": ".py",
   "mimetype": "text/x-python",
   "name": "python",
   "nbconvert_exporter": "python",
   "pygments_lexer": "ipython3",
   "version": "3.10.9"
  }
 },
 "nbformat": 4,
 "nbformat_minor": 2
}
